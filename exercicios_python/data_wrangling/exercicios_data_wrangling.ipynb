{
 "cells": [
  {
   "cell_type": "code",
   "execution_count": 63,
   "metadata": {},
   "outputs": [],
   "source": [
    "import pandas as pd\n",
    "import numpy as np"
   ]
  },
  {
   "cell_type": "markdown",
   "metadata": {},
   "source": [
    "Utilizando o arquivo: collected research people.csv <br/>\n",
    "Desenvolva os seguintes exercícios utilizando técnicas de data wrangling\n",
    "apresentadas nas aulas anteriores. Verifique, considerando a base de dados\n",
    "collected research people, quais os campos trarão valor para cada cenários e\n",
    "quais as transformações de dados necessárias."
   ]
  },
  {
   "cell_type": "code",
   "execution_count": 64,
   "metadata": {},
   "outputs": [
    {
     "data": {
      "text/html": [
       "<div>\n",
       "<style scoped>\n",
       "    .dataframe tbody tr th:only-of-type {\n",
       "        vertical-align: middle;\n",
       "    }\n",
       "\n",
       "    .dataframe tbody tr th {\n",
       "        vertical-align: top;\n",
       "    }\n",
       "\n",
       "    .dataframe thead th {\n",
       "        text-align: right;\n",
       "    }\n",
       "</style>\n",
       "<table border=\"1\" class=\"dataframe\">\n",
       "  <thead>\n",
       "    <tr style=\"text-align: right;\">\n",
       "      <th></th>\n",
       "      <th>Unnamed: 0</th>\n",
       "      <th>Nome</th>\n",
       "      <th>Endereerço</th>\n",
       "      <th>Cidade</th>\n",
       "      <th>Estado</th>\n",
       "      <th>phone</th>\n",
       "      <th>anual_income</th>\n",
       "      <th>Estado Civil</th>\n",
       "      <th>AAge</th>\n",
       "      <th>n_filhos</th>\n",
       "      <th>Moradia</th>\n",
       "      <th>Food_restrictions</th>\n",
       "      <th>streaming</th>\n",
       "      <th>diariamente_sun blocker</th>\n",
       "      <th>Vai na Praia Mensalmente</th>\n",
       "      <th>Faz Academia</th>\n",
       "      <th>Compra e Lê Livros Todos os Anos</th>\n",
       "      <th>Quantidade de Livros Comprados</th>\n",
       "      <th>Autor Favorito</th>\n",
       "      <th>email</th>\n",
       "    </tr>\n",
       "  </thead>\n",
       "  <tbody>\n",
       "    <tr>\n",
       "      <th>0</th>\n",
       "      <td>0</td>\n",
       "      <td>Maria Clara Novaes</td>\n",
       "      <td>NaN</td>\n",
       "      <td>Carvalho</td>\n",
       "      <td>Mato Grosso do Sul</td>\n",
       "      <td>(011) 3908 5991</td>\n",
       "      <td>86445.0</td>\n",
       "      <td>NaN</td>\n",
       "      <td>43.0</td>\n",
       "      <td>NaN</td>\n",
       "      <td>Quitada</td>\n",
       "      <td>Nenhuma</td>\n",
       "      <td>Globo Play</td>\n",
       "      <td>Sim</td>\n",
       "      <td>Não</td>\n",
       "      <td>Sim</td>\n",
       "      <td>NaN</td>\n",
       "      <td>NaN</td>\n",
       "      <td>NaN</td>\n",
       "      <td>mariaclaranovaes285@gemeil.com</td>\n",
       "    </tr>\n",
       "    <tr>\n",
       "      <th>1</th>\n",
       "      <td>1</td>\n",
       "      <td>Davi Lucca Pereira&gt;</td>\n",
       "      <td>Rodovia de Silveira, 67</td>\n",
       "      <td>NaN</td>\n",
       "      <td>Mato Grosso do Sul</td>\n",
       "      <td>NaN</td>\n",
       "      <td>31289.0</td>\n",
       "      <td>NaN</td>\n",
       "      <td>NaN</td>\n",
       "      <td>0.0</td>\n",
       "      <td>De favor</td>\n",
       "      <td>NaN</td>\n",
       "      <td>Todos</td>\n",
       "      <td>NaN</td>\n",
       "      <td>Não</td>\n",
       "      <td>Sim</td>\n",
       "      <td>Não</td>\n",
       "      <td>NaN</td>\n",
       "      <td>NaN</td>\n",
       "      <td>daviluccapereira933@exemplo.com</td>\n",
       "    </tr>\n",
       "    <tr>\n",
       "      <th>2</th>\n",
       "      <td>2</td>\n",
       "      <td>Sr. Caio Caldeira</td>\n",
       "      <td>Residencial Freitas, 10</td>\n",
       "      <td>Carvalho</td>\n",
       "      <td>Rio Grande do Norte</td>\n",
       "      <td>NaN</td>\n",
       "      <td>NaN</td>\n",
       "      <td>S</td>\n",
       "      <td>60.0</td>\n",
       "      <td>NaN</td>\n",
       "      <td>Financiamento</td>\n",
       "      <td>Lactose e Glúten</td>\n",
       "      <td>NaN</td>\n",
       "      <td>Sim</td>\n",
       "      <td>Não</td>\n",
       "      <td>NaN</td>\n",
       "      <td>Sim</td>\n",
       "      <td>6.0</td>\n",
       "      <td>NaN</td>\n",
       "      <td>srcaiocaldeira626@gemeil.com</td>\n",
       "    </tr>\n",
       "    <tr>\n",
       "      <th>3</th>\n",
       "      <td>3</td>\n",
       "      <td>Kaique Azevedo%</td>\n",
       "      <td>NaN</td>\n",
       "      <td>Azevedo</td>\n",
       "      <td>Rio Grande do Sul</td>\n",
       "      <td>NaN</td>\n",
       "      <td>76264.0</td>\n",
       "      <td>Casado</td>\n",
       "      <td>26.0</td>\n",
       "      <td>4.0</td>\n",
       "      <td>Quitada</td>\n",
       "      <td>Lactose e Glúten</td>\n",
       "      <td>NaN</td>\n",
       "      <td>Não</td>\n",
       "      <td>Não</td>\n",
       "      <td>Não</td>\n",
       "      <td>Sim</td>\n",
       "      <td>0.0</td>\n",
       "      <td>Enzo Rezende</td>\n",
       "      <td>kaiqueazevedo731@rotmail.com</td>\n",
       "    </tr>\n",
       "    <tr>\n",
       "      <th>4</th>\n",
       "      <td>4</td>\n",
       "      <td>Pedro Moreira</td>\n",
       "      <td>Colônia de Oliveira, 87</td>\n",
       "      <td>NaN</td>\n",
       "      <td>NaN</td>\n",
       "      <td>-0.'8--%/]</td>\n",
       "      <td>53295.0</td>\n",
       "      <td>Casado</td>\n",
       "      <td>60.0</td>\n",
       "      <td>5.0</td>\n",
       "      <td>Financiamento</td>\n",
       "      <td>NaN</td>\n",
       "      <td>Globo Play</td>\n",
       "      <td>Sim</td>\n",
       "      <td>Sim</td>\n",
       "      <td>NaN</td>\n",
       "      <td>Sim</td>\n",
       "      <td>7.0</td>\n",
       "      <td>NaN</td>\n",
       "      <td>pedromoreira622@gemeil.com</td>\n",
       "    </tr>\n",
       "  </tbody>\n",
       "</table>\n",
       "</div>"
      ],
      "text/plain": [
       "   Unnamed: 0                 Nome               Endereerço    Cidade  \\\n",
       "0           0   Maria Clara Novaes                      NaN  Carvalho   \n",
       "1           1  Davi Lucca Pereira>  Rodovia de Silveira, 67       NaN   \n",
       "2           2    Sr. Caio Caldeira  Residencial Freitas, 10  Carvalho   \n",
       "3           3      Kaique Azevedo%                      NaN   Azevedo   \n",
       "4           4        Pedro Moreira  Colônia de Oliveira, 87       NaN   \n",
       "\n",
       "                Estado            phone  anual_income Estado Civil  AAge  \\\n",
       "0   Mato Grosso do Sul  (011) 3908 5991       86445.0          NaN  43.0   \n",
       "1   Mato Grosso do Sul              NaN       31289.0          NaN   NaN   \n",
       "2  Rio Grande do Norte              NaN           NaN            S  60.0   \n",
       "3    Rio Grande do Sul              NaN       76264.0       Casado  26.0   \n",
       "4                  NaN       -0.'8--%/]       53295.0       Casado  60.0   \n",
       "\n",
       "   n_filhos        Moradia Food_restrictions   streaming  \\\n",
       "0       NaN        Quitada           Nenhuma  Globo Play   \n",
       "1       0.0       De favor               NaN       Todos   \n",
       "2       NaN  Financiamento  Lactose e Glúten         NaN   \n",
       "3       4.0        Quitada  Lactose e Glúten         NaN   \n",
       "4       5.0  Financiamento               NaN  Globo Play   \n",
       "\n",
       "  diariamente_sun blocker Vai na Praia Mensalmente Faz Academia  \\\n",
       "0                     Sim                      Não          Sim   \n",
       "1                     NaN                      Não          Sim   \n",
       "2                     Sim                      Não          NaN   \n",
       "3                     Não                      Não          Não   \n",
       "4                     Sim                      Sim          NaN   \n",
       "\n",
       "  Compra e Lê Livros Todos os Anos  Quantidade de Livros Comprados  \\\n",
       "0                              NaN                             NaN   \n",
       "1                              Não                             NaN   \n",
       "2                              Sim                             6.0   \n",
       "3                              Sim                             0.0   \n",
       "4                              Sim                             7.0   \n",
       "\n",
       "  Autor Favorito                            email  \n",
       "0            NaN   mariaclaranovaes285@gemeil.com  \n",
       "1            NaN  daviluccapereira933@exemplo.com  \n",
       "2            NaN     srcaiocaldeira626@gemeil.com  \n",
       "3   Enzo Rezende     kaiqueazevedo731@rotmail.com  \n",
       "4            NaN       pedromoreira622@gemeil.com  "
      ]
     },
     "execution_count": 64,
     "metadata": {},
     "output_type": "execute_result"
    }
   ],
   "source": [
    "data = 'D:\\Projetos\\WMC\\Data_Analytics_WoMakersCode_Bootcamp\\exercicios_python\\data_wrangling\\data\\collected research people.csv'\n",
    "df_pesquisa = pd.read_csv(data)\n",
    "df_pesquisa.head()"
   ]
  },
  {
   "cell_type": "code",
   "execution_count": 65,
   "metadata": {},
   "outputs": [
    {
     "name": "stdout",
     "output_type": "stream",
     "text": [
      "<class 'pandas.core.frame.DataFrame'>\n",
      "RangeIndex: 37 entries, 0 to 36\n",
      "Data columns (total 20 columns):\n",
      " #   Column                            Non-Null Count  Dtype  \n",
      "---  ------                            --------------  -----  \n",
      " 0   Unnamed: 0                        37 non-null     int64  \n",
      " 1   Nome                              37 non-null     object \n",
      " 2   Endereerço                        29 non-null     object \n",
      " 3   Cidade                            27 non-null     object \n",
      " 4   Estado                            24 non-null     object \n",
      " 5   phone                             25 non-null     object \n",
      " 6   anual_income                      25 non-null     float64\n",
      " 7   Estado Civil                      25 non-null     object \n",
      " 8   AAge                              30 non-null     float64\n",
      " 9   n_filhos                          22 non-null     float64\n",
      " 10  Moradia                           28 non-null     object \n",
      " 11  Food_restrictions                 24 non-null     object \n",
      " 12  streaming                         22 non-null     object \n",
      " 13  diariamente_sun blocker           25 non-null     object \n",
      " 14  Vai na Praia Mensalmente          29 non-null     object \n",
      " 15  Faz Academia                      21 non-null     object \n",
      " 16  Compra e Lê Livros Todos os Anos  23 non-null     object \n",
      " 17  Quantidade de Livros Comprados    10 non-null     float64\n",
      " 18  Autor Favorito                    12 non-null     object \n",
      " 19  email                             37 non-null     object \n",
      "dtypes: float64(4), int64(1), object(15)\n",
      "memory usage: 5.9+ KB\n"
     ]
    }
   ],
   "source": [
    "df_pesquisa.info()"
   ]
  },
  {
   "cell_type": "markdown",
   "metadata": {},
   "source": [
    "### Tratando o DataFrame"
   ]
  },
  {
   "cell_type": "code",
   "execution_count": 66,
   "metadata": {},
   "outputs": [
    {
     "data": {
      "text/plain": [
       "Index(['Nome', 'Endereerço', 'Cidade', 'Estado', 'phone', 'anual_income',\n",
       "       'Estado Civil', 'AAge', 'n_filhos', 'Moradia', 'Food_restrictions',\n",
       "       'streaming', 'diariamente_sun blocker', 'Vai na Praia Mensalmente',\n",
       "       'Faz Academia', 'Compra e Lê Livros Todos os Anos',\n",
       "       'Quantidade de Livros Comprados', 'Autor Favorito', 'email'],\n",
       "      dtype='object')"
      ]
     },
     "execution_count": 66,
     "metadata": {},
     "output_type": "execute_result"
    }
   ],
   "source": [
    "df_pesquisa.drop(['Unnamed: 0'], axis=1, inplace=True)\n",
    "df_pesquisa.columns"
   ]
  },
  {
   "cell_type": "code",
   "execution_count": 67,
   "metadata": {},
   "outputs": [
    {
     "data": {
      "text/plain": [
       "Index(['nome', 'endereco', 'cidade', 'estado', 'telefone', 'renda_anual',\n",
       "       'estado_civil', 'idade', 'num_filhos', 'moradia', 'restricao_alimentar',\n",
       "       'streaming', 'usa_protetor_diariamente', 'vai_praia_mensalmente',\n",
       "       'faz_academia', 'compra_le_listros_anualmente', 'qtd_livros_comprados',\n",
       "       'autor_favorito', 'email'],\n",
       "      dtype='object')"
      ]
     },
     "execution_count": 67,
     "metadata": {},
     "output_type": "execute_result"
    }
   ],
   "source": [
    "dicionario_dfpesquisa = {'Nome' : 'nome',\n",
    "                         'Endereerço': 'endereco', \n",
    "                         'Cidade' : 'cidade', \n",
    "                         'Estado' : 'estado', \n",
    "                         'phone' : 'telefone', \n",
    "                         'anual_income' : 'renda_anual',\n",
    "                         'Estado Civil' : 'estado_civil', \n",
    "                         'AAge' : 'idade', \n",
    "                         'n_filhos' : 'num_filhos', \n",
    "                         'Moradia' : 'moradia', \n",
    "                         'Food_restrictions' : 'restricao_alimentar',\n",
    "                         'diariamente_sun blocker' : 'usa_protetor_diariamente', \n",
    "                         'Vai na Praia Mensalmente' : 'vai_praia_mensalmente',\n",
    "                         'Faz Academia' : 'faz_academia', \n",
    "                         'Compra e Lê Livros Todos os Anos' : 'compra_le_listros_anualmente',\n",
    "                         'Quantidade de Livros Comprados' : 'qtd_livros_comprados',\n",
    "                         'Autor Favorito' : 'autor_favorito'}\n",
    "df_pesquisa.rename(columns=dicionario_dfpesquisa, inplace=True)\n",
    "df_pesquisa.columns"
   ]
  },
  {
   "cell_type": "code",
   "execution_count": 68,
   "metadata": {},
   "outputs": [
    {
     "data": {
      "text/plain": [
       "0            Maria Clara Novaes\n",
       "1           Davi Lucca Pereira>\n",
       "2             Sr. Caio Caldeira\n",
       "3               Kaique Azevedo%\n",
       "4                 Pedro Moreira\n",
       "5         Sra. Ana Júlia Castro\n",
       "6                Erick Carvalho\n",
       "7        Sra. Ana Sophia Vieira\n",
       "8              Dav4i Nascimento\n",
       "9                 Juan da Mota<\n",
       "10               Stephany Pinto\n",
       "11                Joana Rezende\n",
       "12         Dra. Letícia Ribeiro\n",
       "13              Beatriz Azevedo\n",
       "14               André Monteiro\n",
       "15        João Guilherme Porto^\n",
       "16               Augusto_ Rocha\n",
       "17      Srta. Isabelly da Rocha\n",
       "18              Heloísa Santos>\n",
       "19              Calebe Azevedo.\n",
       "20                   _Ana Alves\n",
       "21      Maria Fernanda Ribeiro=\n",
       "22                 Samuel Jesus\n",
       "23               Beatriz Ramos?\n",
       "24               Dr. Davi Cunha\n",
       "25            Enrico Cavalcanti\n",
       "26                /Raquel Moura\n",
       "27               Lorena Cardoso\n",
       "28              Diogo Caldeira#\n",
       "29              Maria Gonçalves\n",
       "30              Isadora Cardoso\n",
       "31               Igor Ferreira'\n",
       "32               Sabrina Nunes}\n",
       "33           Pedro Miguel Silva\n",
       "34    Dra. Clarice da Conceição\n",
       "35            Daniel Rodrigues'\n",
       "36                   Isis Silva\n",
       "Name: nome, dtype: object"
      ]
     },
     "execution_count": 68,
     "metadata": {},
     "output_type": "execute_result"
    }
   ],
   "source": [
    "df_pesquisa.nome"
   ]
  },
  {
   "cell_type": "markdown",
   "metadata": {},
   "source": [
    "o **\\W** equivale a [^a-zA-Zà-úÀ-Ú0-9_]"
   ]
  },
  {
   "cell_type": "code",
   "execution_count": 69,
   "metadata": {},
   "outputs": [
    {
     "data": {
      "text/plain": [
       "0           Maria Clara Novaes\n",
       "1           Davi Lucca Pereira\n",
       "2             Sr Caio Caldeira\n",
       "3               Kaique Azevedo\n",
       "4                Pedro Moreira\n",
       "5         Sra Ana Júlia Castro\n",
       "6               Erick Carvalho\n",
       "7        Sra Ana Sophia Vieira\n",
       "8              Davi Nascimento\n",
       "9                 Juan da Mota\n",
       "10              Stephany Pinto\n",
       "11               Joana Rezende\n",
       "12         Dra Letícia Ribeiro\n",
       "13             Beatriz Azevedo\n",
       "14              André Monteiro\n",
       "15        João Guilherme Porto\n",
       "16               Augusto Rocha\n",
       "17      Srta Isabelly da Rocha\n",
       "18              Heloísa Santos\n",
       "19              Calebe Azevedo\n",
       "20                   Ana Alves\n",
       "21      Maria Fernanda Ribeiro\n",
       "22                Samuel Jesus\n",
       "23               Beatriz Ramos\n",
       "24               Dr Davi Cunha\n",
       "25           Enrico Cavalcanti\n",
       "26                Raquel Moura\n",
       "27              Lorena Cardoso\n",
       "28              Diogo Caldeira\n",
       "29             Maria Gonçalves\n",
       "30             Isadora Cardoso\n",
       "31               Igor Ferreira\n",
       "32               Sabrina Nunes\n",
       "33          Pedro Miguel Silva\n",
       "34    Dra Clarice da Conceição\n",
       "35            Daniel Rodrigues\n",
       "36                  Isis Silva\n",
       "Name: nome, dtype: object"
      ]
     },
     "execution_count": 69,
     "metadata": {},
     "output_type": "execute_result"
    }
   ],
   "source": [
    "df_pesquisa.nome.str.replace('[^a-zA-Zà-úÀ-Ú ]', '', regex=True) ## adptando para não permitir números em nome"
   ]
  },
  {
   "cell_type": "code",
   "execution_count": 70,
   "metadata": {},
   "outputs": [],
   "source": [
    "df_telefone = df_pesquisa.telefone.str.replace('[^0-9() +-]', '*', regex=True)"
   ]
  },
  {
   "cell_type": "code",
   "execution_count": 71,
   "metadata": {},
   "outputs": [],
   "source": [
    "df_pesquisa.loc[df_telefone.str.contains('[*]', na=False), 'telefone'] = np.nan"
   ]
  },
  {
   "cell_type": "code",
   "execution_count": 72,
   "metadata": {},
   "outputs": [
    {
     "data": {
      "text/plain": [
       "0         (011) 3908 5991\n",
       "1                     NaN\n",
       "2                     NaN\n",
       "3                     NaN\n",
       "4                     NaN\n",
       "5     +55 (084) 4591-2403\n",
       "6            84 9687 5023\n",
       "7                     NaN\n",
       "8        +55 51 6868 3666\n",
       "9                     NaN\n",
       "10                    NaN\n",
       "11          0900 093 9760\n",
       "12                    NaN\n",
       "13           81 2891-7504\n",
       "14                    NaN\n",
       "15                    NaN\n",
       "16           41 5504 8546\n",
       "17           84 2319-1532\n",
       "18          0800 612 6032\n",
       "19                    NaN\n",
       "20           51 5882 5998\n",
       "21                    NaN\n",
       "22                    NaN\n",
       "23    +55 (021) 4719 9862\n",
       "24        (084) 0305 6725\n",
       "25        (011) 3410 5199\n",
       "26                    NaN\n",
       "27           84 6014-5325\n",
       "28                    NaN\n",
       "29       +55 71 7088-8329\n",
       "30                    NaN\n",
       "31           21 0712-6859\n",
       "32       +55 51 2213 5603\n",
       "33                    NaN\n",
       "34       +55 51 8245 2336\n",
       "35        (061) 5002 3548\n",
       "36                    NaN\n",
       "Name: telefone, dtype: object"
      ]
     },
     "execution_count": 72,
     "metadata": {},
     "output_type": "execute_result"
    }
   ],
   "source": [
    "df_pesquisa.telefone"
   ]
  },
  {
   "cell_type": "code",
   "execution_count": 73,
   "metadata": {},
   "outputs": [
    {
     "data": {
      "text/plain": [
       "array([nan, 'S', 'Casado', 'Solteiro', 'D', 'Divorciado', 'C', 'V',\n",
       "       'Viúvo'], dtype=object)"
      ]
     },
     "execution_count": 73,
     "metadata": {},
     "output_type": "execute_result"
    }
   ],
   "source": [
    "df_pesquisa.estado_civil.unique()"
   ]
  },
  {
   "cell_type": "code",
   "execution_count": 74,
   "metadata": {},
   "outputs": [
    {
     "name": "stderr",
     "output_type": "stream",
     "text": [
      "C:\\Users\\Joana\\AppData\\Local\\Temp\\ipykernel_15656\\2620833121.py:5: FutureWarning: A value is trying to be set on a copy of a DataFrame or Series through chained assignment using an inplace method.\n",
      "The behavior will change in pandas 3.0. This inplace method will never work because the intermediate object on which we are setting values always behaves as a copy.\n",
      "\n",
      "For example, when doing 'df[col].method(value, inplace=True)', try using 'df.method({col: value}, inplace=True)' or df[col] = df[col].method(value) instead, to perform the operation inplace on the original object.\n",
      "\n",
      "\n",
      "  df_pesquisa['estado_civil'].replace(dicionario_estado_civil, inplace=True)\n"
     ]
    },
    {
     "data": {
      "text/plain": [
       "array([nan, 'Solteiro', 'Casado', 'Divorciado', 'Viúvo'], dtype=object)"
      ]
     },
     "execution_count": 74,
     "metadata": {},
     "output_type": "execute_result"
    }
   ],
   "source": [
    "dicionario_estado_civil = {'S' : 'Solteiro',\n",
    "                           'C' : 'Casado',\n",
    "                           'D' : 'Divorciado',\n",
    "                           'V' : 'Viúvo'}\n",
    "df_pesquisa['estado_civil'].replace(dicionario_estado_civil, inplace=True)\n",
    "df_pesquisa.estado_civil.unique()"
   ]
  },
  {
   "cell_type": "markdown",
   "metadata": {},
   "source": [
    "### Cenário 1\n",
    "A empresa Carri Construtora contratou a empresa que você trabalha para\n",
    "encontrar possíveis compradores para o seus novos empreendimentos.\n",
    "A empresa quer entender as necessidades dos clientes, e quer informações\n",
    "com:\n",
    "* Quais cliente devemos abordar;\n",
    "* Qual empreendimento nós devemos mostrá-los;\n",
    "* Esse cliente está em busca de investir em um imóvel ou comprar para moradia?\n",
    "\n",
    "Se renda anual <= 104 = pode participar do Minha casa minha vida"
   ]
  },
  {
   "cell_type": "code",
   "execution_count": 75,
   "metadata": {},
   "outputs": [
    {
     "data": {
      "text/plain": [
       "Index(['nome', 'endereco', 'cidade', 'estado', 'telefone', 'renda_anual',\n",
       "       'estado_civil', 'idade', 'num_filhos', 'moradia', 'restricao_alimentar',\n",
       "       'streaming', 'usa_protetor_diariamente', 'vai_praia_mensalmente',\n",
       "       'faz_academia', 'compra_le_listros_anualmente', 'qtd_livros_comprados',\n",
       "       'autor_favorito', 'email'],\n",
       "      dtype='object')"
      ]
     },
     "execution_count": 75,
     "metadata": {},
     "output_type": "execute_result"
    }
   ],
   "source": [
    "df_pesquisa.columns"
   ]
  },
  {
   "cell_type": "code",
   "execution_count": 81,
   "metadata": {},
   "outputs": [
    {
     "data": {
      "text/plain": [
       "Index(['nome', 'endereco', 'cidade', 'estado', 'telefone', 'renda_anual',\n",
       "       'estado_civil', 'idade', 'num_filhos', 'moradia',\n",
       "       'vai_praia_mensalmente', 'faz_academia', 'email'],\n",
       "      dtype='object')"
      ]
     },
     "execution_count": 81,
     "metadata": {},
     "output_type": "execute_result"
    }
   ],
   "source": [
    "#Reduzindo o df com informações relevantes aos clientes que a Carri Contrutora deve abordar\n",
    "drop_carri = ['restricao_alimentar', \n",
    "              'streaming', \n",
    "              'usa_protetor_diariamente',\n",
    "              'compra_le_listros_anualmente', \n",
    "              'qtd_livros_comprados',\n",
    "              'autor_favorito']\n",
    "df_carri = df_pesquisa.copy()\n",
    "df_carri.drop(columns=drop_carri, inplace=True)\n",
    "df_carri.columns"
   ]
  },
  {
   "cell_type": "code",
   "execution_count": 82,
   "metadata": {},
   "outputs": [
    {
     "data": {
      "text/html": [
       "<div>\n",
       "<style scoped>\n",
       "    .dataframe tbody tr th:only-of-type {\n",
       "        vertical-align: middle;\n",
       "    }\n",
       "\n",
       "    .dataframe tbody tr th {\n",
       "        vertical-align: top;\n",
       "    }\n",
       "\n",
       "    .dataframe thead th {\n",
       "        text-align: right;\n",
       "    }\n",
       "</style>\n",
       "<table border=\"1\" class=\"dataframe\">\n",
       "  <thead>\n",
       "    <tr style=\"text-align: right;\">\n",
       "      <th></th>\n",
       "      <th>renda_anual</th>\n",
       "      <th>idade</th>\n",
       "      <th>num_filhos</th>\n",
       "    </tr>\n",
       "  </thead>\n",
       "  <tbody>\n",
       "    <tr>\n",
       "      <th>count</th>\n",
       "      <td>25.000000</td>\n",
       "      <td>30.000000</td>\n",
       "      <td>22.000000</td>\n",
       "    </tr>\n",
       "    <tr>\n",
       "      <th>mean</th>\n",
       "      <td>67570.640000</td>\n",
       "      <td>44.633333</td>\n",
       "      <td>2.909091</td>\n",
       "    </tr>\n",
       "    <tr>\n",
       "      <th>std</th>\n",
       "      <td>20917.823198</td>\n",
       "      <td>16.356973</td>\n",
       "      <td>1.600866</td>\n",
       "    </tr>\n",
       "    <tr>\n",
       "      <th>min</th>\n",
       "      <td>22826.000000</td>\n",
       "      <td>18.000000</td>\n",
       "      <td>0.000000</td>\n",
       "    </tr>\n",
       "    <tr>\n",
       "      <th>25%</th>\n",
       "      <td>53295.000000</td>\n",
       "      <td>30.250000</td>\n",
       "      <td>2.000000</td>\n",
       "    </tr>\n",
       "    <tr>\n",
       "      <th>50%</th>\n",
       "      <td>71448.000000</td>\n",
       "      <td>42.500000</td>\n",
       "      <td>3.000000</td>\n",
       "    </tr>\n",
       "    <tr>\n",
       "      <th>75%</th>\n",
       "      <td>86445.000000</td>\n",
       "      <td>60.000000</td>\n",
       "      <td>4.000000</td>\n",
       "    </tr>\n",
       "    <tr>\n",
       "      <th>max</th>\n",
       "      <td>95433.000000</td>\n",
       "      <td>78.000000</td>\n",
       "      <td>5.000000</td>\n",
       "    </tr>\n",
       "  </tbody>\n",
       "</table>\n",
       "</div>"
      ],
      "text/plain": [
       "        renda_anual      idade  num_filhos\n",
       "count     25.000000  30.000000   22.000000\n",
       "mean   67570.640000  44.633333    2.909091\n",
       "std    20917.823198  16.356973    1.600866\n",
       "min    22826.000000  18.000000    0.000000\n",
       "25%    53295.000000  30.250000    2.000000\n",
       "50%    71448.000000  42.500000    3.000000\n",
       "75%    86445.000000  60.000000    4.000000\n",
       "max    95433.000000  78.000000    5.000000"
      ]
     },
     "execution_count": 82,
     "metadata": {},
     "output_type": "execute_result"
    }
   ],
   "source": [
    "df_carri.describe()"
   ]
  },
  {
   "cell_type": "code",
   "execution_count": 127,
   "metadata": {},
   "outputs": [
    {
     "data": {
      "text/plain": [
       "minha_casa_minha_vida\n",
       "True     50\n",
       "False    12\n",
       "Name: count, dtype: int64"
      ]
     },
     "execution_count": 127,
     "metadata": {},
     "output_type": "execute_result"
    }
   ],
   "source": [
    "# Para pessoa ter acesso ao minha casa minha vida sua renda bruta precisa ser de 8mil reais mensal \n",
    "# Portanto iremos considerar 8*13 para o cálculo de renda anual ao direito minha casa minha vida\n",
    "direito_minhacasa = 8000*13\n",
    "df_carri['minha_casa_minha_vida'] = np.where(df_carri.renda_anual <= direito_minhacasa, True, False)\n",
    "df_carri.minha_casa_minha_vida.value_counts()"
   ]
  },
  {
   "cell_type": "code",
   "execution_count": 121,
   "metadata": {},
   "outputs": [
    {
     "data": {
      "text/plain": [
       "array(['Quitada', 'De favor', 'Financiamento', 'Aluguel', nan],\n",
       "      dtype=object)"
      ]
     },
     "execution_count": 121,
     "metadata": {},
     "output_type": "execute_result"
    }
   ],
   "source": [
    "df_carri.moradia.unique()"
   ]
  },
  {
   "cell_type": "code",
   "execution_count": 129,
   "metadata": {},
   "outputs": [
    {
     "data": {
      "text/html": [
       "<div>\n",
       "<style scoped>\n",
       "    .dataframe tbody tr th:only-of-type {\n",
       "        vertical-align: middle;\n",
       "    }\n",
       "\n",
       "    .dataframe tbody tr th {\n",
       "        vertical-align: top;\n",
       "    }\n",
       "\n",
       "    .dataframe thead th {\n",
       "        text-align: right;\n",
       "    }\n",
       "</style>\n",
       "<table border=\"1\" class=\"dataframe\">\n",
       "  <thead>\n",
       "    <tr style=\"text-align: right;\">\n",
       "      <th></th>\n",
       "      <th>nome</th>\n",
       "      <th>endereco</th>\n",
       "      <th>cidade</th>\n",
       "      <th>estado</th>\n",
       "      <th>telefone</th>\n",
       "      <th>renda_anual</th>\n",
       "      <th>estado_civil</th>\n",
       "      <th>idade</th>\n",
       "      <th>num_filhos</th>\n",
       "      <th>moradia</th>\n",
       "      <th>vai_praia_mensalmente</th>\n",
       "      <th>faz_academia</th>\n",
       "      <th>email</th>\n",
       "      <th>minha_casa_minha_vida</th>\n",
       "      <th>investimento</th>\n",
       "    </tr>\n",
       "  </thead>\n",
       "  <tbody>\n",
       "    <tr>\n",
       "      <th>0</th>\n",
       "      <td>Maria Clara Novaes</td>\n",
       "      <td>NaN</td>\n",
       "      <td>Carvalho</td>\n",
       "      <td>Mato Grosso do Sul</td>\n",
       "      <td>(011) 3908 5991</td>\n",
       "      <td>86445.0</td>\n",
       "      <td>NaN</td>\n",
       "      <td>43.0</td>\n",
       "      <td>NaN</td>\n",
       "      <td>Quitada</td>\n",
       "      <td>Não</td>\n",
       "      <td>Sim</td>\n",
       "      <td>mariaclaranovaes285@gemeil.com</td>\n",
       "      <td>True</td>\n",
       "      <td>True</td>\n",
       "    </tr>\n",
       "    <tr>\n",
       "      <th>1</th>\n",
       "      <td>Davi Lucca Pereira&gt;</td>\n",
       "      <td>Rodovia de Silveira, 67</td>\n",
       "      <td>NaN</td>\n",
       "      <td>Mato Grosso do Sul</td>\n",
       "      <td>NaN</td>\n",
       "      <td>31289.0</td>\n",
       "      <td>NaN</td>\n",
       "      <td>NaN</td>\n",
       "      <td>0.0</td>\n",
       "      <td>De favor</td>\n",
       "      <td>Não</td>\n",
       "      <td>Sim</td>\n",
       "      <td>daviluccapereira933@exemplo.com</td>\n",
       "      <td>True</td>\n",
       "      <td>False</td>\n",
       "    </tr>\n",
       "    <tr>\n",
       "      <th>2</th>\n",
       "      <td>Sr. Caio Caldeira</td>\n",
       "      <td>Residencial Freitas, 10</td>\n",
       "      <td>Carvalho</td>\n",
       "      <td>Rio Grande do Norte</td>\n",
       "      <td>NaN</td>\n",
       "      <td>NaN</td>\n",
       "      <td>Solteiro</td>\n",
       "      <td>60.0</td>\n",
       "      <td>NaN</td>\n",
       "      <td>Financiamento</td>\n",
       "      <td>Não</td>\n",
       "      <td>NaN</td>\n",
       "      <td>srcaiocaldeira626@gemeil.com</td>\n",
       "      <td>False</td>\n",
       "      <td>True</td>\n",
       "    </tr>\n",
       "    <tr>\n",
       "      <th>3</th>\n",
       "      <td>Kaique Azevedo%</td>\n",
       "      <td>NaN</td>\n",
       "      <td>Azevedo</td>\n",
       "      <td>Rio Grande do Sul</td>\n",
       "      <td>NaN</td>\n",
       "      <td>76264.0</td>\n",
       "      <td>Casado</td>\n",
       "      <td>26.0</td>\n",
       "      <td>4.0</td>\n",
       "      <td>Quitada</td>\n",
       "      <td>Não</td>\n",
       "      <td>Não</td>\n",
       "      <td>kaiqueazevedo731@rotmail.com</td>\n",
       "      <td>True</td>\n",
       "      <td>True</td>\n",
       "    </tr>\n",
       "    <tr>\n",
       "      <th>4</th>\n",
       "      <td>Pedro Moreira</td>\n",
       "      <td>Colônia de Oliveira, 87</td>\n",
       "      <td>NaN</td>\n",
       "      <td>NaN</td>\n",
       "      <td>NaN</td>\n",
       "      <td>53295.0</td>\n",
       "      <td>Casado</td>\n",
       "      <td>60.0</td>\n",
       "      <td>5.0</td>\n",
       "      <td>Financiamento</td>\n",
       "      <td>Sim</td>\n",
       "      <td>NaN</td>\n",
       "      <td>pedromoreira622@gemeil.com</td>\n",
       "      <td>True</td>\n",
       "      <td>True</td>\n",
       "    </tr>\n",
       "  </tbody>\n",
       "</table>\n",
       "</div>"
      ],
      "text/plain": [
       "                  nome                 endereco    cidade  \\\n",
       "0   Maria Clara Novaes                      NaN  Carvalho   \n",
       "1  Davi Lucca Pereira>  Rodovia de Silveira, 67       NaN   \n",
       "2    Sr. Caio Caldeira  Residencial Freitas, 10  Carvalho   \n",
       "3      Kaique Azevedo%                      NaN   Azevedo   \n",
       "4        Pedro Moreira  Colônia de Oliveira, 87       NaN   \n",
       "\n",
       "                estado         telefone  renda_anual estado_civil  idade  \\\n",
       "0   Mato Grosso do Sul  (011) 3908 5991      86445.0          NaN   43.0   \n",
       "1   Mato Grosso do Sul              NaN      31289.0          NaN    NaN   \n",
       "2  Rio Grande do Norte              NaN          NaN     Solteiro   60.0   \n",
       "3    Rio Grande do Sul              NaN      76264.0       Casado   26.0   \n",
       "4                  NaN              NaN      53295.0       Casado   60.0   \n",
       "\n",
       "   num_filhos        moradia vai_praia_mensalmente faz_academia  \\\n",
       "0         NaN        Quitada                   Não          Sim   \n",
       "1         0.0       De favor                   Não          Sim   \n",
       "2         NaN  Financiamento                   Não          NaN   \n",
       "3         4.0        Quitada                   Não          Não   \n",
       "4         5.0  Financiamento                   Sim          NaN   \n",
       "\n",
       "                             email  minha_casa_minha_vida  investimento  \n",
       "0   mariaclaranovaes285@gemeil.com                   True          True  \n",
       "1  daviluccapereira933@exemplo.com                   True         False  \n",
       "2     srcaiocaldeira626@gemeil.com                  False          True  \n",
       "3     kaiqueazevedo731@rotmail.com                   True          True  \n",
       "4       pedromoreira622@gemeil.com                   True          True  "
      ]
     },
     "execution_count": 129,
     "metadata": {},
     "output_type": "execute_result"
    }
   ],
   "source": [
    "# Identificando os clientes que estão em busca de investir num imovel para quitá-lo ou financiar\n",
    "df_carri['investimento'] = np.where((\n",
    "    df_carri.moradia == \"Quitada\") | (df_carri.moradia == \"Financiamento\"),True, False)\n",
    "df_carri.head()"
   ]
  },
  {
   "cell_type": "markdown",
   "metadata": {},
   "source": [
    "### Cenário 2\n",
    "Uma empresa chamada Hillo, é uma empresa que está estudando o mercado e\n",
    "quer encontrar uma parceria com uma empresa de Streeming (netflix, Disney\n",
    "plus etc), mas gostaria de saber quais as empresas dariam o maior retorno de\n",
    "investimento. Eles podem fazer análise de machine learning também com\n",
    "esses dados."
   ]
  },
  {
   "cell_type": "code",
   "execution_count": null,
   "metadata": {},
   "outputs": [],
   "source": []
  },
  {
   "cell_type": "markdown",
   "metadata": {},
   "source": [
    "### Cenário 3\n",
    "Uma influenciadora digital de bem estar gostaria de analisar possíveis\n",
    "empreendimentos dentro de diferentes propostas que recebe. Essas\n",
    "propostas podem ser excludentes ou somatórias, ou seja, elas podem ser de\n",
    "empresas com o mesmo mercado (empresas concorrentes) ou empresas de\n",
    "mercados diferentes (não concorrentes). Exemplo: duas marcas diferentes de\n",
    "chá são concorrentes, mas uma marca de chá e uma marca de bolinhos não\n",
    "são concorrentes."
   ]
  },
  {
   "cell_type": "markdown",
   "metadata": {},
   "source": []
  }
 ],
 "metadata": {
  "kernelspec": {
   "display_name": "Python 3",
   "language": "python",
   "name": "python3"
  },
  "language_info": {
   "codemirror_mode": {
    "name": "ipython",
    "version": 3
   },
   "file_extension": ".py",
   "mimetype": "text/x-python",
   "name": "python",
   "nbconvert_exporter": "python",
   "pygments_lexer": "ipython3",
   "version": "3.11.9"
  }
 },
 "nbformat": 4,
 "nbformat_minor": 2
}
