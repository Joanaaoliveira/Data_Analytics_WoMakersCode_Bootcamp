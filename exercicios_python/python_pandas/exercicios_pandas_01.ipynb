{
 "cells": [
  {
   "cell_type": "markdown",
   "metadata": {},
   "source": [
    "## Python para Dados - Atividade de Fixação Pandas"
   ]
  },
  {
   "cell_type": "code",
   "execution_count": 17,
   "metadata": {},
   "outputs": [],
   "source": [
    "import pandas as pd"
   ]
  },
  {
   "cell_type": "markdown",
   "metadata": {},
   "source": [
    "### Dataframe e ordenação\n",
    "\n",
    "1. Faça o upload do CSV carros.csv"
   ]
  },
  {
   "cell_type": "code",
   "execution_count": 18,
   "metadata": {},
   "outputs": [],
   "source": [
    "data = 'D:\\Projetos\\WMC\\Data_Analytics_WoMakersCode_Bootcamp\\exercicios_python\\python_pandas\\data\\carros.csv'\n",
    "df_carros = pd.read_csv(data)"
   ]
  },
  {
   "cell_type": "markdown",
   "metadata": {},
   "source": [
    "2. Print seu head com 10 linhas"
   ]
  },
  {
   "cell_type": "code",
   "execution_count": 19,
   "metadata": {},
   "outputs": [
    {
     "data": {
      "text/html": [
       "<div>\n",
       "<style scoped>\n",
       "    .dataframe tbody tr th:only-of-type {\n",
       "        vertical-align: middle;\n",
       "    }\n",
       "\n",
       "    .dataframe tbody tr th {\n",
       "        vertical-align: top;\n",
       "    }\n",
       "\n",
       "    .dataframe thead th {\n",
       "        text-align: right;\n",
       "    }\n",
       "</style>\n",
       "<table border=\"1\" class=\"dataframe\">\n",
       "  <thead>\n",
       "    <tr style=\"text-align: right;\">\n",
       "      <th></th>\n",
       "      <th>Região</th>\n",
       "      <th>Estado</th>\n",
       "      <th>Quant Carros</th>\n",
       "      <th>Quant Carros Família com Filhos</th>\n",
       "      <th>População do Estado</th>\n",
       "    </tr>\n",
       "  </thead>\n",
       "  <tbody>\n",
       "    <tr>\n",
       "      <th>0</th>\n",
       "      <td>Sul</td>\n",
       "      <td>Acre</td>\n",
       "      <td>4342</td>\n",
       "      <td>1034</td>\n",
       "      <td>23942.0</td>\n",
       "    </tr>\n",
       "    <tr>\n",
       "      <th>1</th>\n",
       "      <td>Centro-Oeste</td>\n",
       "      <td>Alagoas</td>\n",
       "      <td>18991</td>\n",
       "      <td>3253</td>\n",
       "      <td>23431.0</td>\n",
       "    </tr>\n",
       "    <tr>\n",
       "      <th>2</th>\n",
       "      <td>Sudeste</td>\n",
       "      <td>Amapá</td>\n",
       "      <td>6463</td>\n",
       "      <td>4152</td>\n",
       "      <td>7747.0</td>\n",
       "    </tr>\n",
       "    <tr>\n",
       "      <th>3</th>\n",
       "      <td>Centro-Oeste</td>\n",
       "      <td>Amazonas</td>\n",
       "      <td>3180</td>\n",
       "      <td>2955</td>\n",
       "      <td>5189.0</td>\n",
       "    </tr>\n",
       "    <tr>\n",
       "      <th>4</th>\n",
       "      <td>Centro-Oeste</td>\n",
       "      <td>Bahia</td>\n",
       "      <td>11288</td>\n",
       "      <td>2585</td>\n",
       "      <td>24118.0</td>\n",
       "    </tr>\n",
       "    <tr>\n",
       "      <th>5</th>\n",
       "      <td>Nordeste</td>\n",
       "      <td>Ceará</td>\n",
       "      <td>10807</td>\n",
       "      <td>4943</td>\n",
       "      <td>40773.0</td>\n",
       "    </tr>\n",
       "    <tr>\n",
       "      <th>6</th>\n",
       "      <td>Sudeste</td>\n",
       "      <td>Distrito Federal</td>\n",
       "      <td>5786</td>\n",
       "      <td>4459</td>\n",
       "      <td>6899.0</td>\n",
       "    </tr>\n",
       "    <tr>\n",
       "      <th>7</th>\n",
       "      <td>Sudeste</td>\n",
       "      <td>Espírito Santo</td>\n",
       "      <td>5494</td>\n",
       "      <td>4073</td>\n",
       "      <td>6267.0</td>\n",
       "    </tr>\n",
       "    <tr>\n",
       "      <th>8</th>\n",
       "      <td>Sudeste</td>\n",
       "      <td>Goiás</td>\n",
       "      <td>24412</td>\n",
       "      <td>2021</td>\n",
       "      <td>36551.0</td>\n",
       "    </tr>\n",
       "    <tr>\n",
       "      <th>9</th>\n",
       "      <td>Centro-Oeste</td>\n",
       "      <td>Maranhão</td>\n",
       "      <td>8472</td>\n",
       "      <td>4461</td>\n",
       "      <td>16394.0</td>\n",
       "    </tr>\n",
       "  </tbody>\n",
       "</table>\n",
       "</div>"
      ],
      "text/plain": [
       "         Região            Estado  Quant Carros  \\\n",
       "0           Sul              Acre          4342   \n",
       "1  Centro-Oeste           Alagoas         18991   \n",
       "2       Sudeste             Amapá          6463   \n",
       "3  Centro-Oeste          Amazonas          3180   \n",
       "4  Centro-Oeste             Bahia         11288   \n",
       "5      Nordeste             Ceará         10807   \n",
       "6       Sudeste  Distrito Federal          5786   \n",
       "7       Sudeste    Espírito Santo          5494   \n",
       "8       Sudeste             Goiás         24412   \n",
       "9  Centro-Oeste          Maranhão          8472   \n",
       "\n",
       "   Quant Carros Família com Filhos  População do Estado  \n",
       "0                             1034              23942.0  \n",
       "1                             3253              23431.0  \n",
       "2                             4152               7747.0  \n",
       "3                             2955               5189.0  \n",
       "4                             2585              24118.0  \n",
       "5                             4943              40773.0  \n",
       "6                             4459               6899.0  \n",
       "7                             4073               6267.0  \n",
       "8                             2021              36551.0  \n",
       "9                             4461              16394.0  "
      ]
     },
     "execution_count": 19,
     "metadata": {},
     "output_type": "execute_result"
    }
   ],
   "source": [
    "df_carros.head(10)"
   ]
  },
  {
   "cell_type": "markdown",
   "metadata": {},
   "source": [
    "3. Agora print as colunas e index do dataframe"
   ]
  },
  {
   "cell_type": "code",
   "execution_count": 20,
   "metadata": {},
   "outputs": [
    {
     "data": {
      "text/plain": [
       "Index(['Região', 'Estado', 'Quant Carros', 'Quant Carros Família com Filhos',\n",
       "       'População do Estado'],\n",
       "      dtype='object')"
      ]
     },
     "execution_count": 20,
     "metadata": {},
     "output_type": "execute_result"
    }
   ],
   "source": [
    "df_carros.columns"
   ]
  },
  {
   "cell_type": "code",
   "execution_count": 21,
   "metadata": {},
   "outputs": [
    {
     "data": {
      "text/plain": [
       "RangeIndex(start=0, stop=27, step=1)"
      ]
     },
     "execution_count": 21,
     "metadata": {},
     "output_type": "execute_result"
    }
   ],
   "source": [
    "df_carros.index"
   ]
  },
  {
   "cell_type": "markdown",
   "metadata": {},
   "source": [
    "4. Faça um sort decrescente no dataframe pelo estado com maior quantidade de carros\n"
   ]
  },
  {
   "cell_type": "code",
   "execution_count": 22,
   "metadata": {},
   "outputs": [
    {
     "data": {
      "text/html": [
       "<div>\n",
       "<style scoped>\n",
       "    .dataframe tbody tr th:only-of-type {\n",
       "        vertical-align: middle;\n",
       "    }\n",
       "\n",
       "    .dataframe tbody tr th {\n",
       "        vertical-align: top;\n",
       "    }\n",
       "\n",
       "    .dataframe thead th {\n",
       "        text-align: right;\n",
       "    }\n",
       "</style>\n",
       "<table border=\"1\" class=\"dataframe\">\n",
       "  <thead>\n",
       "    <tr style=\"text-align: right;\">\n",
       "      <th></th>\n",
       "      <th>Região</th>\n",
       "      <th>Estado</th>\n",
       "      <th>Quant Carros</th>\n",
       "      <th>Quant Carros Família com Filhos</th>\n",
       "      <th>População do Estado</th>\n",
       "    </tr>\n",
       "  </thead>\n",
       "  <tbody>\n",
       "    <tr>\n",
       "      <th>18</th>\n",
       "      <td>Norte</td>\n",
       "      <td>Rio de Janeiro</td>\n",
       "      <td>33848</td>\n",
       "      <td>2579</td>\n",
       "      <td>48323.0</td>\n",
       "    </tr>\n",
       "    <tr>\n",
       "      <th>8</th>\n",
       "      <td>Sudeste</td>\n",
       "      <td>Goiás</td>\n",
       "      <td>24412</td>\n",
       "      <td>2021</td>\n",
       "      <td>36551.0</td>\n",
       "    </tr>\n",
       "    <tr>\n",
       "      <th>21</th>\n",
       "      <td>Centro-Oeste</td>\n",
       "      <td>Rondônia</td>\n",
       "      <td>23113</td>\n",
       "      <td>2981</td>\n",
       "      <td>48001.0</td>\n",
       "    </tr>\n",
       "    <tr>\n",
       "      <th>13</th>\n",
       "      <td>Nordeste</td>\n",
       "      <td>Pará</td>\n",
       "      <td>22387</td>\n",
       "      <td>4893</td>\n",
       "      <td>35740.0</td>\n",
       "    </tr>\n",
       "    <tr>\n",
       "      <th>25</th>\n",
       "      <td>Sudeste</td>\n",
       "      <td>Sergipe</td>\n",
       "      <td>22307</td>\n",
       "      <td>1815</td>\n",
       "      <td>28483.0</td>\n",
       "    </tr>\n",
       "    <tr>\n",
       "      <th>1</th>\n",
       "      <td>Centro-Oeste</td>\n",
       "      <td>Alagoas</td>\n",
       "      <td>18991</td>\n",
       "      <td>3253</td>\n",
       "      <td>23431.0</td>\n",
       "    </tr>\n",
       "    <tr>\n",
       "      <th>12</th>\n",
       "      <td>Centro-Oeste</td>\n",
       "      <td>Minas Gerais</td>\n",
       "      <td>17291</td>\n",
       "      <td>4843</td>\n",
       "      <td>46606.0</td>\n",
       "    </tr>\n",
       "    <tr>\n",
       "      <th>26</th>\n",
       "      <td>Sudeste</td>\n",
       "      <td>Tocantins</td>\n",
       "      <td>17144</td>\n",
       "      <td>4342</td>\n",
       "      <td>22159.0</td>\n",
       "    </tr>\n",
       "    <tr>\n",
       "      <th>4</th>\n",
       "      <td>Centro-Oeste</td>\n",
       "      <td>Bahia</td>\n",
       "      <td>11288</td>\n",
       "      <td>2585</td>\n",
       "      <td>24118.0</td>\n",
       "    </tr>\n",
       "    <tr>\n",
       "      <th>5</th>\n",
       "      <td>Nordeste</td>\n",
       "      <td>Ceará</td>\n",
       "      <td>10807</td>\n",
       "      <td>4943</td>\n",
       "      <td>40773.0</td>\n",
       "    </tr>\n",
       "    <tr>\n",
       "      <th>14</th>\n",
       "      <td>Sul</td>\n",
       "      <td>Paraíba</td>\n",
       "      <td>10666</td>\n",
       "      <td>2500</td>\n",
       "      <td>19502.0</td>\n",
       "    </tr>\n",
       "    <tr>\n",
       "      <th>16</th>\n",
       "      <td>Sul</td>\n",
       "      <td>Pernambuco</td>\n",
       "      <td>10533</td>\n",
       "      <td>3449</td>\n",
       "      <td>15627.0</td>\n",
       "    </tr>\n",
       "    <tr>\n",
       "      <th>23</th>\n",
       "      <td>Norte</td>\n",
       "      <td>Santa Catarina</td>\n",
       "      <td>9466</td>\n",
       "      <td>3317</td>\n",
       "      <td>28897.0</td>\n",
       "    </tr>\n",
       "    <tr>\n",
       "      <th>9</th>\n",
       "      <td>Centro-Oeste</td>\n",
       "      <td>Maranhão</td>\n",
       "      <td>8472</td>\n",
       "      <td>4461</td>\n",
       "      <td>16394.0</td>\n",
       "    </tr>\n",
       "    <tr>\n",
       "      <th>17</th>\n",
       "      <td>Centro-Oeste</td>\n",
       "      <td>Piauí</td>\n",
       "      <td>7912</td>\n",
       "      <td>3777</td>\n",
       "      <td>13792.0</td>\n",
       "    </tr>\n",
       "    <tr>\n",
       "      <th>2</th>\n",
       "      <td>Sudeste</td>\n",
       "      <td>Amapá</td>\n",
       "      <td>6463</td>\n",
       "      <td>4152</td>\n",
       "      <td>7747.0</td>\n",
       "    </tr>\n",
       "    <tr>\n",
       "      <th>19</th>\n",
       "      <td>Sul</td>\n",
       "      <td>Rio Grande do Norte</td>\n",
       "      <td>6396</td>\n",
       "      <td>1161</td>\n",
       "      <td>48021.0</td>\n",
       "    </tr>\n",
       "    <tr>\n",
       "      <th>24</th>\n",
       "      <td>Norte</td>\n",
       "      <td>São Paulo</td>\n",
       "      <td>6317</td>\n",
       "      <td>4934</td>\n",
       "      <td>7612.0</td>\n",
       "    </tr>\n",
       "    <tr>\n",
       "      <th>15</th>\n",
       "      <td>Nordeste</td>\n",
       "      <td>Paraná</td>\n",
       "      <td>6036</td>\n",
       "      <td>1702</td>\n",
       "      <td>26777.0</td>\n",
       "    </tr>\n",
       "    <tr>\n",
       "      <th>6</th>\n",
       "      <td>Sudeste</td>\n",
       "      <td>Distrito Federal</td>\n",
       "      <td>5786</td>\n",
       "      <td>4459</td>\n",
       "      <td>6899.0</td>\n",
       "    </tr>\n",
       "    <tr>\n",
       "      <th>11</th>\n",
       "      <td>Sudeste</td>\n",
       "      <td>Mato Grosso do Sul</td>\n",
       "      <td>5683</td>\n",
       "      <td>2129</td>\n",
       "      <td>8890.0</td>\n",
       "    </tr>\n",
       "    <tr>\n",
       "      <th>7</th>\n",
       "      <td>Sudeste</td>\n",
       "      <td>Espírito Santo</td>\n",
       "      <td>5494</td>\n",
       "      <td>4073</td>\n",
       "      <td>6267.0</td>\n",
       "    </tr>\n",
       "    <tr>\n",
       "      <th>10</th>\n",
       "      <td>Sul</td>\n",
       "      <td>Mato Grosso</td>\n",
       "      <td>4868</td>\n",
       "      <td>3613</td>\n",
       "      <td>8556.0</td>\n",
       "    </tr>\n",
       "    <tr>\n",
       "      <th>0</th>\n",
       "      <td>Sul</td>\n",
       "      <td>Acre</td>\n",
       "      <td>4342</td>\n",
       "      <td>1034</td>\n",
       "      <td>23942.0</td>\n",
       "    </tr>\n",
       "    <tr>\n",
       "      <th>22</th>\n",
       "      <td>Sul</td>\n",
       "      <td>Roraima</td>\n",
       "      <td>3561</td>\n",
       "      <td>1995</td>\n",
       "      <td>16016.0</td>\n",
       "    </tr>\n",
       "    <tr>\n",
       "      <th>3</th>\n",
       "      <td>Centro-Oeste</td>\n",
       "      <td>Amazonas</td>\n",
       "      <td>3180</td>\n",
       "      <td>2955</td>\n",
       "      <td>5189.0</td>\n",
       "    </tr>\n",
       "    <tr>\n",
       "      <th>20</th>\n",
       "      <td>Nordeste</td>\n",
       "      <td>Rio Grande do Sul</td>\n",
       "      <td>2241</td>\n",
       "      <td>1201</td>\n",
       "      <td>13433.0</td>\n",
       "    </tr>\n",
       "  </tbody>\n",
       "</table>\n",
       "</div>"
      ],
      "text/plain": [
       "          Região               Estado  Quant Carros  \\\n",
       "18         Norte       Rio de Janeiro         33848   \n",
       "8        Sudeste                Goiás         24412   \n",
       "21  Centro-Oeste             Rondônia         23113   \n",
       "13      Nordeste                 Pará         22387   \n",
       "25       Sudeste              Sergipe         22307   \n",
       "1   Centro-Oeste              Alagoas         18991   \n",
       "12  Centro-Oeste         Minas Gerais         17291   \n",
       "26       Sudeste            Tocantins         17144   \n",
       "4   Centro-Oeste                Bahia         11288   \n",
       "5       Nordeste                Ceará         10807   \n",
       "14           Sul              Paraíba         10666   \n",
       "16           Sul           Pernambuco         10533   \n",
       "23         Norte       Santa Catarina          9466   \n",
       "9   Centro-Oeste             Maranhão          8472   \n",
       "17  Centro-Oeste                Piauí          7912   \n",
       "2        Sudeste                Amapá          6463   \n",
       "19           Sul  Rio Grande do Norte          6396   \n",
       "24         Norte            São Paulo          6317   \n",
       "15      Nordeste               Paraná          6036   \n",
       "6        Sudeste     Distrito Federal          5786   \n",
       "11       Sudeste   Mato Grosso do Sul          5683   \n",
       "7        Sudeste       Espírito Santo          5494   \n",
       "10           Sul          Mato Grosso          4868   \n",
       "0            Sul                 Acre          4342   \n",
       "22           Sul              Roraima          3561   \n",
       "3   Centro-Oeste             Amazonas          3180   \n",
       "20      Nordeste    Rio Grande do Sul          2241   \n",
       "\n",
       "    Quant Carros Família com Filhos  População do Estado  \n",
       "18                             2579              48323.0  \n",
       "8                              2021              36551.0  \n",
       "21                             2981              48001.0  \n",
       "13                             4893              35740.0  \n",
       "25                             1815              28483.0  \n",
       "1                              3253              23431.0  \n",
       "12                             4843              46606.0  \n",
       "26                             4342              22159.0  \n",
       "4                              2585              24118.0  \n",
       "5                              4943              40773.0  \n",
       "14                             2500              19502.0  \n",
       "16                             3449              15627.0  \n",
       "23                             3317              28897.0  \n",
       "9                              4461              16394.0  \n",
       "17                             3777              13792.0  \n",
       "2                              4152               7747.0  \n",
       "19                             1161              48021.0  \n",
       "24                             4934               7612.0  \n",
       "15                             1702              26777.0  \n",
       "6                              4459               6899.0  \n",
       "11                             2129               8890.0  \n",
       "7                              4073               6267.0  \n",
       "10                             3613               8556.0  \n",
       "0                              1034              23942.0  \n",
       "22                             1995              16016.0  \n",
       "3                              2955               5189.0  \n",
       "20                             1201              13433.0  "
      ]
     },
     "execution_count": 22,
     "metadata": {},
     "output_type": "execute_result"
    }
   ],
   "source": [
    "df_carros.sort_values('Quant Carros', ascending=False)"
   ]
  },
  {
   "cell_type": "markdown",
   "metadata": {},
   "source": [
    "5. Descubra qual a proporção de carro para a população de cada estado e insira em uma nova coluna"
   ]
  },
  {
   "cell_type": "code",
   "execution_count": 23,
   "metadata": {},
   "outputs": [
    {
     "data": {
      "text/plain": [
       "0     0.181355\n",
       "1     0.810507\n",
       "2     0.834258\n",
       "3     0.612835\n",
       "4     0.468032\n",
       "5     0.265053\n",
       "6     0.838672\n",
       "7     0.876655\n",
       "8     0.667889\n",
       "9     0.516774\n",
       "10    0.568957\n",
       "11    0.639258\n",
       "12    0.371004\n",
       "13    0.626385\n",
       "14    0.546918\n",
       "15    0.225417\n",
       "16    0.674026\n",
       "17    0.573666\n",
       "18    0.700453\n",
       "19    0.133192\n",
       "20    0.166828\n",
       "21    0.481511\n",
       "22    0.222340\n",
       "23    0.327577\n",
       "24    0.829874\n",
       "25    0.783169\n",
       "26    0.773681\n",
       "dtype: float64"
      ]
     },
     "execution_count": 23,
     "metadata": {},
     "output_type": "execute_result"
    }
   ],
   "source": [
    "proporcao_carro = df_carros['Quant Carros'] / df_carros['População do Estado']\n",
    "proporcao_carro"
   ]
  },
  {
   "cell_type": "code",
   "execution_count": 24,
   "metadata": {},
   "outputs": [
    {
     "data": {
      "text/html": [
       "<div>\n",
       "<style scoped>\n",
       "    .dataframe tbody tr th:only-of-type {\n",
       "        vertical-align: middle;\n",
       "    }\n",
       "\n",
       "    .dataframe tbody tr th {\n",
       "        vertical-align: top;\n",
       "    }\n",
       "\n",
       "    .dataframe thead th {\n",
       "        text-align: right;\n",
       "    }\n",
       "</style>\n",
       "<table border=\"1\" class=\"dataframe\">\n",
       "  <thead>\n",
       "    <tr style=\"text-align: right;\">\n",
       "      <th></th>\n",
       "      <th>Região</th>\n",
       "      <th>Estado</th>\n",
       "      <th>Quant Carros</th>\n",
       "      <th>Quant Carros Família com Filhos</th>\n",
       "      <th>População do Estado</th>\n",
       "      <th>Carros por habitante</th>\n",
       "    </tr>\n",
       "  </thead>\n",
       "  <tbody>\n",
       "    <tr>\n",
       "      <th>0</th>\n",
       "      <td>Sul</td>\n",
       "      <td>Acre</td>\n",
       "      <td>4342</td>\n",
       "      <td>1034</td>\n",
       "      <td>23942.0</td>\n",
       "      <td>0.181355</td>\n",
       "    </tr>\n",
       "    <tr>\n",
       "      <th>1</th>\n",
       "      <td>Centro-Oeste</td>\n",
       "      <td>Alagoas</td>\n",
       "      <td>18991</td>\n",
       "      <td>3253</td>\n",
       "      <td>23431.0</td>\n",
       "      <td>0.810507</td>\n",
       "    </tr>\n",
       "    <tr>\n",
       "      <th>2</th>\n",
       "      <td>Sudeste</td>\n",
       "      <td>Amapá</td>\n",
       "      <td>6463</td>\n",
       "      <td>4152</td>\n",
       "      <td>7747.0</td>\n",
       "      <td>0.834258</td>\n",
       "    </tr>\n",
       "    <tr>\n",
       "      <th>3</th>\n",
       "      <td>Centro-Oeste</td>\n",
       "      <td>Amazonas</td>\n",
       "      <td>3180</td>\n",
       "      <td>2955</td>\n",
       "      <td>5189.0</td>\n",
       "      <td>0.612835</td>\n",
       "    </tr>\n",
       "    <tr>\n",
       "      <th>4</th>\n",
       "      <td>Centro-Oeste</td>\n",
       "      <td>Bahia</td>\n",
       "      <td>11288</td>\n",
       "      <td>2585</td>\n",
       "      <td>24118.0</td>\n",
       "      <td>0.468032</td>\n",
       "    </tr>\n",
       "  </tbody>\n",
       "</table>\n",
       "</div>"
      ],
      "text/plain": [
       "         Região    Estado  Quant Carros  Quant Carros Família com Filhos  \\\n",
       "0           Sul      Acre          4342                             1034   \n",
       "1  Centro-Oeste   Alagoas         18991                             3253   \n",
       "2       Sudeste     Amapá          6463                             4152   \n",
       "3  Centro-Oeste  Amazonas          3180                             2955   \n",
       "4  Centro-Oeste     Bahia         11288                             2585   \n",
       "\n",
       "   População do Estado  Carros por habitante  \n",
       "0              23942.0              0.181355  \n",
       "1              23431.0              0.810507  \n",
       "2               7747.0              0.834258  \n",
       "3               5189.0              0.612835  \n",
       "4              24118.0              0.468032  "
      ]
     },
     "execution_count": 24,
     "metadata": {},
     "output_type": "execute_result"
    }
   ],
   "source": [
    "df_carros['Carros por habitante'] = proporcao_carro\n",
    "df_carros.head()"
   ]
  },
  {
   "cell_type": "markdown",
   "metadata": {},
   "source": [
    "6. Faça um dataframe com Estado e proporção de carro por habitante"
   ]
  },
  {
   "cell_type": "code",
   "execution_count": 25,
   "metadata": {},
   "outputs": [
    {
     "data": {
      "text/html": [
       "<div>\n",
       "<style scoped>\n",
       "    .dataframe tbody tr th:only-of-type {\n",
       "        vertical-align: middle;\n",
       "    }\n",
       "\n",
       "    .dataframe tbody tr th {\n",
       "        vertical-align: top;\n",
       "    }\n",
       "\n",
       "    .dataframe thead th {\n",
       "        text-align: right;\n",
       "    }\n",
       "</style>\n",
       "<table border=\"1\" class=\"dataframe\">\n",
       "  <thead>\n",
       "    <tr style=\"text-align: right;\">\n",
       "      <th></th>\n",
       "      <th>Estado</th>\n",
       "      <th>Carros por habitante</th>\n",
       "    </tr>\n",
       "  </thead>\n",
       "  <tbody>\n",
       "    <tr>\n",
       "      <th>0</th>\n",
       "      <td>Acre</td>\n",
       "      <td>0.181355</td>\n",
       "    </tr>\n",
       "    <tr>\n",
       "      <th>1</th>\n",
       "      <td>Alagoas</td>\n",
       "      <td>0.810507</td>\n",
       "    </tr>\n",
       "  </tbody>\n",
       "</table>\n",
       "</div>"
      ],
      "text/plain": [
       "    Estado  Carros por habitante\n",
       "0     Acre              0.181355\n",
       "1  Alagoas              0.810507"
      ]
     },
     "execution_count": 25,
     "metadata": {},
     "output_type": "execute_result"
    }
   ],
   "source": [
    "df_estado_hab = df_carros[['Estado', 'Carros por habitante']]\n",
    "df_estado_hab.head(2)"
   ]
  },
  {
   "cell_type": "markdown",
   "metadata": {},
   "source": [
    "### Agregação de dados\n",
    "7. Qual a média de idade por região?"
   ]
  },
  {
   "cell_type": "code",
   "execution_count": null,
   "metadata": {},
   "outputs": [],
   "source": []
  },
  {
   "cell_type": "markdown",
   "metadata": {},
   "source": [
    "8. Qual é a porcentagem de pessoas com deficiência?\n"
   ]
  },
  {
   "cell_type": "code",
   "execution_count": null,
   "metadata": {},
   "outputs": [],
   "source": []
  },
  {
   "cell_type": "markdown",
   "metadata": {},
   "source": [
    "9. Quantas pessoas são do estado do Piauí?\n"
   ]
  },
  {
   "cell_type": "code",
   "execution_count": null,
   "metadata": {},
   "outputs": [],
   "source": []
  },
  {
   "cell_type": "markdown",
   "metadata": {},
   "source": [
    "### Indexação e fatiamento\n",
    "\n",
    "Utilizando o arquivos: concurso.csv\n",
    "\n",
    "Temos como base inscrições em um concurso público, utilizando indexação retorne:\n",
    "10. Quantas pessoas são do estado do Piauí?\n"
   ]
  },
  {
   "cell_type": "markdown",
   "metadata": {},
   "source": [
    "10. Quantas pessoas são do estado do Piauí?"
   ]
  },
  {
   "cell_type": "code",
   "execution_count": null,
   "metadata": {},
   "outputs": [],
   "source": []
  },
  {
   "cell_type": "markdown",
   "metadata": {},
   "source": [
    "11. Quantas do ES são so sexo feminino?"
   ]
  },
  {
   "cell_type": "code",
   "execution_count": null,
   "metadata": {},
   "outputs": [],
   "source": []
  },
  {
   "cell_type": "markdown",
   "metadata": {},
   "source": [
    "12. Quantas pessoas nasceram antes de 1995?"
   ]
  },
  {
   "cell_type": "code",
   "execution_count": null,
   "metadata": {},
   "outputs": [],
   "source": []
  },
  {
   "cell_type": "markdown",
   "metadata": {},
   "source": [
    "13. Retorne os dados dos inscritos com as colunas: nº inscrição, nome e idade.\n"
   ]
  },
  {
   "cell_type": "code",
   "execution_count": null,
   "metadata": {},
   "outputs": [],
   "source": []
  },
  {
   "cell_type": "markdown",
   "metadata": {},
   "source": [
    "### Valores faltosos\n",
    "14. Para os valores faltosos coloque:<br/>\n",
    "    a. Se string: Falta informação<br/>\n",
    "    b. Se número: mediana\n"
   ]
  },
  {
   "cell_type": "code",
   "execution_count": null,
   "metadata": {},
   "outputs": [],
   "source": []
  },
  {
   "cell_type": "markdown",
   "metadata": {},
   "source": [
    "15. Plote a porcentagem de dados faltosos para cada coluna."
   ]
  },
  {
   "cell_type": "code",
   "execution_count": null,
   "metadata": {},
   "outputs": [],
   "source": []
  }
 ],
 "metadata": {
  "kernelspec": {
   "display_name": "Python 3",
   "language": "python",
   "name": "python3"
  },
  "language_info": {
   "codemirror_mode": {
    "name": "ipython",
    "version": 3
   },
   "file_extension": ".py",
   "mimetype": "text/x-python",
   "name": "python",
   "nbconvert_exporter": "python",
   "pygments_lexer": "ipython3",
   "version": "3.11.9"
  }
 },
 "nbformat": 4,
 "nbformat_minor": 2
}
