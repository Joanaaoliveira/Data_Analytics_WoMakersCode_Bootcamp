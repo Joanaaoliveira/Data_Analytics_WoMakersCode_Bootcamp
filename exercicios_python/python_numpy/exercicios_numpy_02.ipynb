{
 "cells": [
  {
   "cell_type": "code",
   "execution_count": 2,
   "metadata": {},
   "outputs": [],
   "source": [
    "import numpy as np"
   ]
  },
  {
   "cell_type": "markdown",
   "metadata": {},
   "source": [
    "## Questões Manipulando Arrays"
   ]
  },
  {
   "cell_type": "markdown",
   "metadata": {},
   "source": [
    "## Explorando Ecossistemas:<br/>\n",
    "\n",
    "1. Como bióloga marinha, me encontrei em uma expedição nas\n",
    "profundezas do Oceano Pacífico, onde estávamos estudando a\n",
    "biodiversidade e a saúde dos recifes de coral. O catálogo abaixo\n",
    "demonstra dados das espécies encontradas, considere a seguinte\n",
    "ordem de colunas: <br/>\n",
    "**ID da espécie, quantidade de representantes encontrados, profundeza,\n",
    "tamanho médio da espécie.**\n",
    "* Selecione a segunda coluna com a quantidade de espécies\n",
    "encontradas e adicione em um array as qtd_especies.\n",
    "* De qtd_especies selecione apenas as primeiras 3 quantidades e\n",
    "print.\n",
    "* Print as 5 últimas quantidades de espécies.\n",
    "* Crie um array que contenha apenas os tamanhos das espécies e\n",
    "ordene por ordem crescente."
   ]
  },
  {
   "cell_type": "code",
   "execution_count": 3,
   "metadata": {},
   "outputs": [],
   "source": [
    "especies = np.array([[747, 89, 33, 5],\n",
    "[623, 123, 32, 13],\n",
    "[501, 22, 49, 2],\n",
    "[116, 101, 42, 10],\n",
    "[297, 56, 69, 22],\n",
    "[613, 64, 27, 7],\n",
    "[295, 84, 29, 14],\n",
    "[692, 105, 72, 16],\n",
    "[229, 103, 35, 5],\n",
    "[374, 124, 70, 1]])"
   ]
  },
  {
   "cell_type": "code",
   "execution_count": 4,
   "metadata": {},
   "outputs": [
    {
     "data": {
      "text/plain": [
       "array([ 89, 123,  22, 101,  56,  64,  84, 105, 103, 124])"
      ]
     },
     "execution_count": 4,
     "metadata": {},
     "output_type": "execute_result"
    }
   ],
   "source": [
    "#Selecionando segunda coluna com a qtd_especies e adicionando a um array\n",
    "qtd_especies = np.array(especies[:, 1])\n",
    "qtd_especies"
   ]
  },
  {
   "cell_type": "code",
   "execution_count": 5,
   "metadata": {},
   "outputs": [
    {
     "data": {
      "text/plain": [
       "array([ 89, 123,  22])"
      ]
     },
     "execution_count": 5,
     "metadata": {},
     "output_type": "execute_result"
    }
   ],
   "source": [
    "# Mostrar de qtd_especies apenas as 3 primeiras quantidades e mostrar\n",
    "top03_qtd_especies = qtd_especies[0:3]  ## Lembrando que o limite superior tem que ser 1 acima do que quer mostrar\n",
    "top03_qtd_especies"
   ]
  },
  {
   "cell_type": "code",
   "execution_count": 6,
   "metadata": {},
   "outputs": [
    {
     "data": {
      "text/plain": [
       "array([ 64,  84, 105, 103, 124])"
      ]
     },
     "execution_count": 6,
     "metadata": {},
     "output_type": "execute_result"
    }
   ],
   "source": [
    "#* Print as 5 últimas quantidades de espécies.\n",
    "\n",
    "last05_qtd_especies = qtd_especies[-5:] ## neste caso 5 e -5, daria a mesma resposta por ser um array de 10\n",
    "last05_qtd_especies"
   ]
  },
  {
   "cell_type": "code",
   "execution_count": 7,
   "metadata": {},
   "outputs": [
    {
     "data": {
      "text/plain": [
       "array([ 1,  2,  5,  5,  7, 10, 13, 14, 16, 22])"
      ]
     },
     "execution_count": 7,
     "metadata": {},
     "output_type": "execute_result"
    }
   ],
   "source": [
    "# Array que com tamanhos das espécies ordenado crescente.\n",
    "tamanho_med_especies = np.array(especies[:, 3])\n",
    "np.sort(tamanho_med_especies)"
   ]
  },
  {
   "cell_type": "code",
   "execution_count": 8,
   "metadata": {},
   "outputs": [
    {
     "data": {
      "text/plain": [
       "array([22, 16, 14, 13, 10,  7,  5,  5,  2,  1])"
      ]
     },
     "execution_count": 8,
     "metadata": {},
     "output_type": "execute_result"
    }
   ],
   "source": [
    "## Para ordenar em forma decrescente\n",
    "np.sort(tamanho_med_especies)[::-1]"
   ]
  },
  {
   "cell_type": "markdown",
   "metadata": {},
   "source": [
    "2. Ainda usando o Array de espécies marítimas.\n",
    "* Usando um index boolean crie um array que contém os dados da\n",
    "maior espécie encontrada (considerando o seu tamanho), esse\n",
    "valor corresponde ao valor 22.\n",
    "* Usando fency index faça um array que contém apenas dados da\n",
    "espécie com ID 297.\n",
    "* Usando np.where() faça um array com a linha com dados\n",
    "correspondentes a espécie com 105 representantes\n",
    "encontrados.\n",
    "* Considere a profundeza em que o espécie foi encontrada\n",
    "substitua valores maiores que 60 com \"Profundo”\n"
   ]
  },
  {
   "cell_type": "code",
   "execution_count": 9,
   "metadata": {},
   "outputs": [
    {
     "data": {
      "text/plain": [
       "array([False, False, False, False,  True, False, False, False, False,\n",
       "       False])"
      ]
     },
     "execution_count": 9,
     "metadata": {},
     "output_type": "execute_result"
    }
   ],
   "source": [
    "# Usando o index booleano para identificar na linha 3 a maior especie encontrada\n",
    "max_especie = max(especies[:, 3])\n",
    "especies[:, 3] == max_especie"
   ]
  },
  {
   "cell_type": "code",
   "execution_count": 10,
   "metadata": {},
   "outputs": [
    {
     "data": {
      "text/plain": [
       "array([[297,  56,  69,  22]])"
      ]
     },
     "execution_count": 10,
     "metadata": {},
     "output_type": "execute_result"
    }
   ],
   "source": [
    "# Mostrando os dados da maior especie encontrada\n",
    "maior_especie = especies[especies[:, 3] == max_especie]\n",
    "maior_especie"
   ]
  },
  {
   "cell_type": "code",
   "execution_count": 11,
   "metadata": {},
   "outputs": [
    {
     "data": {
      "text/plain": [
       "array([[297,  56,  69,  22]])"
      ]
     },
     "execution_count": 11,
     "metadata": {},
     "output_type": "execute_result"
    }
   ],
   "source": [
    "# Criando uma máscara para demonstrar os dados da especie de ID 297\n",
    "mask_297 = especies[:, 0] == 297\n",
    "especies[mask_297]"
   ]
  },
  {
   "cell_type": "code",
   "execution_count": 12,
   "metadata": {},
   "outputs": [
    {
     "data": {
      "text/plain": [
       "array([[692, 105,  72,  16]])"
      ]
     },
     "execution_count": 12,
     "metadata": {},
     "output_type": "execute_result"
    }
   ],
   "source": [
    "# Usando o np.where() para encontrar a especie que tem 105 representantes encontrados.\n",
    "especies[np.where(especies[:, 1] == 105)]"
   ]
  },
  {
   "cell_type": "code",
   "execution_count": 13,
   "metadata": {},
   "outputs": [
    {
     "data": {
      "text/plain": [
       "array(['33', '32', '49', '42', 'Profundo', '27', '29', 'Profundo', '35',\n",
       "       'Profundo'], dtype='<U11')"
      ]
     },
     "execution_count": 13,
     "metadata": {},
     "output_type": "execute_result"
    }
   ],
   "source": [
    "# Substituindo todos os valores > 60 por \"Profundo\" analisando a coluna profundeza\n",
    "np.where(especies[:, 2] > 60, \"Profundo\", especies[:, 2])"
   ]
  },
  {
   "cell_type": "markdown",
   "metadata": {},
   "source": [
    "3. Ainda no conjunto 'especies'\n",
    "* Adicione mais 2 espécies ao array: [[204, 10, 40 , 12],[392, 11, 81, 11]]\n",
    "* Adicione mais uma coluna no array original agora com o número de espécies encontradas com que indica se o animal enxerga ou não: <br/>\n",
    "[0,1,0,0,0,0,1,0,1,1]\n",
    "* Faça um array com todas as espécies menos com as com ID 623, 116, 613."
   ]
  },
  {
   "cell_type": "code",
   "execution_count": 14,
   "metadata": {},
   "outputs": [
    {
     "data": {
      "text/plain": [
       "array([[747,  89,  33,   5],\n",
       "       [623, 123,  32,  13],\n",
       "       [501,  22,  49,   2],\n",
       "       [116, 101,  42,  10],\n",
       "       [297,  56,  69,  22],\n",
       "       [613,  64,  27,   7],\n",
       "       [295,  84,  29,  14],\n",
       "       [692, 105,  72,  16],\n",
       "       [229, 103,  35,   5],\n",
       "       [374, 124,  70,   1],\n",
       "       [204,  10,  40,  12],\n",
       "       [392,  11,  81,  11]])"
      ]
     },
     "execution_count": 14,
     "metadata": {},
     "output_type": "execute_result"
    }
   ],
   "source": [
    "novas_especies = np.array([[204, 10, 40 , 12], [392, 11, 81, 11]])\n",
    "np.concatenate((especies, novas_especies))"
   ]
  },
  {
   "cell_type": "code",
   "execution_count": 15,
   "metadata": {},
   "outputs": [
    {
     "data": {
      "text/plain": [
       "array([[747,  89,  33,   5,   0],\n",
       "       [623, 123,  32,  13,   1],\n",
       "       [501,  22,  49,   2,   0],\n",
       "       [116, 101,  42,  10,   0],\n",
       "       [297,  56,  69,  22,   0],\n",
       "       [613,  64,  27,   7,   0],\n",
       "       [295,  84,  29,  14,   1],\n",
       "       [692, 105,  72,  16,   0],\n",
       "       [229, 103,  35,   5,   1],\n",
       "       [374, 124,  70,   1,   1]])"
      ]
     },
     "execution_count": 15,
     "metadata": {},
     "output_type": "execute_result"
    }
   ],
   "source": [
    "visao = np.array([0,1,0,0,0,0,1,0,1,1]).reshape((10, 1))\n",
    "np.concatenate((especies, visao), axis=1)"
   ]
  },
  {
   "cell_type": "code",
   "execution_count": 16,
   "metadata": {},
   "outputs": [
    {
     "data": {
      "text/plain": [
       "array([[747,  89,  33,   5],\n",
       "       [501,  22,  49,   2],\n",
       "       [297,  56,  69,  22],\n",
       "       [295,  84,  29,  14],\n",
       "       [692, 105,  72,  16],\n",
       "       [229, 103,  35,   5],\n",
       "       [374, 124,  70,   1]])"
      ]
     },
     "execution_count": 16,
     "metadata": {},
     "output_type": "execute_result"
    }
   ],
   "source": [
    "np.delete(especies, [1, 3 ,5], axis=0)"
   ]
  },
  {
   "cell_type": "markdown",
   "metadata": {},
   "source": [
    "## Considerando o array abaixo, responda:"
   ]
  },
  {
   "cell_type": "code",
   "execution_count": 17,
   "metadata": {},
   "outputs": [],
   "source": [
    "acidentes = np.array([[1, 3, 2],\n",
    "[0, 1, 0],\n",
    "[2, 1, 4],\n",
    "[0, 0, 0],\n",
    "[1, 1, 0]])"
   ]
  },
  {
   "cell_type": "markdown",
   "metadata": {},
   "source": [
    "1. O cliente que teve acidente abaixo da média nos últimos 2 anos,\n",
    "ganhará um desconto no seu seguro. Identifique-os."
   ]
  },
  {
   "cell_type": "code",
   "execution_count": 35,
   "metadata": {},
   "outputs": [
    {
     "data": {
      "text/plain": [
       "(array([1, 3, 4], dtype=int64),)"
      ]
     },
     "execution_count": 35,
     "metadata": {},
     "output_type": "execute_result"
    }
   ],
   "source": [
    "media_cliente = np.mean(acidentes, axis=1)\n",
    "\n",
    "media_geral = np.mean(media_cliente)\n",
    "\n",
    "cliente_desconto = np.where(media_cliente < media_geral)\n",
    "\n",
    "cliente_desconto"
   ]
  },
  {
   "cell_type": "markdown",
   "metadata": {},
   "source": [
    "2. Qual cliente teve pelo menos 2 anos sem cometer acidentes?"
   ]
  },
  {
   "cell_type": "code",
   "execution_count": 32,
   "metadata": {},
   "outputs": [
    {
     "data": {
      "text/plain": [
       "(array([1, 3], dtype=int64),)"
      ]
     },
     "execution_count": 32,
     "metadata": {},
     "output_type": "execute_result"
    }
   ],
   "source": [
    "np.where(np.sum(acidentes == 0, axis=1) >= 2)"
   ]
  },
  {
   "cell_type": "markdown",
   "metadata": {},
   "source": [
    "3. Uma professora quer que seus alunos apliquem a função (3x + 2y +\n",
    "x*y) em um conjunto de dados. Ela dá dois arrays aos estudantes e\n",
    "pede que seja feita essa operação."
   ]
  },
  {
   "cell_type": "code",
   "execution_count": 19,
   "metadata": {},
   "outputs": [
    {
     "data": {
      "text/plain": [
       "array([ 19, 102, 114])"
      ]
     },
     "execution_count": 19,
     "metadata": {},
     "output_type": "execute_result"
    }
   ],
   "source": [
    "array_1 = np.array([3, 7, 10])\n",
    "array_2 = np.array([2, 9, 7])\n",
    "\n",
    "def funcao_prof(array_1, array_2):\n",
    "    return 3*(array_1) + 2*(array_2) + (array_1*array_2)\n",
    "\n",
    "vetoriza_funcao = np.vectorize(funcao_prof)\n",
    "\n",
    "resultado = vetoriza_funcao(array_1, array_2)\n",
    "\n",
    "resultado"
   ]
  },
  {
   "cell_type": "markdown",
   "metadata": {},
   "source": [
    "4. A mesma professora percebeu que houve um erro em todas as provas\n",
    "dos estudantes e esqueceu de anotar a nota de trabalhos\n",
    "apresentados durante o semestre. Já que foi feito em grupo ela vai\n",
    "adicionar a mesma nota para todos os estudantes. No array cada\n",
    "estudante representa uma linha e cada coluna uma prova. Adicione\n",
    "para cada prova de cada estudante os valores: 1, 2, 1."
   ]
  },
  {
   "cell_type": "code",
   "execution_count": 20,
   "metadata": {},
   "outputs": [
    {
     "data": {
      "text/plain": [
       "array([[1, 8, 3],\n",
       "       [4, 5, 9],\n",
       "       [2, 5, 7]])"
      ]
     },
     "execution_count": 20,
     "metadata": {},
     "output_type": "execute_result"
    }
   ],
   "source": [
    "#estudante linha / prova coluna\n",
    "\n",
    "nota = np.array([[1,8,3],\n",
    "                 [4,5,9], \n",
    "                 [2,5,7]])\n",
    "nota"
   ]
  },
  {
   "cell_type": "code",
   "execution_count": 21,
   "metadata": {},
   "outputs": [
    {
     "data": {
      "text/plain": [
       "array([1, 2, 1])"
      ]
     },
     "execution_count": 21,
     "metadata": {},
     "output_type": "execute_result"
    }
   ],
   "source": [
    "nota_trabalho = np.array([1, 2, 1])\n",
    "nota_trabalho\n"
   ]
  },
  {
   "cell_type": "code",
   "execution_count": 22,
   "metadata": {},
   "outputs": [
    {
     "data": {
      "text/plain": [
       "array([[ 2, 10,  4],\n",
       "       [ 5,  7, 10],\n",
       "       [ 3,  7,  8]])"
      ]
     },
     "execution_count": 22,
     "metadata": {},
     "output_type": "execute_result"
    }
   ],
   "source": [
    "nota = nota + nota_trabalho\n",
    "nota\n"
   ]
  }
 ],
 "metadata": {
  "kernelspec": {
   "display_name": "Python 3",
   "language": "python",
   "name": "python3"
  },
  "language_info": {
   "codemirror_mode": {
    "name": "ipython",
    "version": 3
   },
   "file_extension": ".py",
   "mimetype": "text/x-python",
   "name": "python",
   "nbconvert_exporter": "python",
   "pygments_lexer": "ipython3",
   "version": "3.11.9"
  }
 },
 "nbformat": 4,
 "nbformat_minor": 2
}
