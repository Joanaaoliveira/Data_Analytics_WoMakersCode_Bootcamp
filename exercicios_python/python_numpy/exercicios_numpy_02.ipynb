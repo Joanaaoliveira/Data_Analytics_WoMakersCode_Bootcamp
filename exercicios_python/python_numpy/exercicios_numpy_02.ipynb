{
 "cells": [
  {
   "cell_type": "code",
   "execution_count": 2,
   "metadata": {},
   "outputs": [],
   "source": [
    "import numpy as np"
   ]
  },
  {
   "cell_type": "markdown",
   "metadata": {},
   "source": [
    "## Questões Manipulando Arrays"
   ]
  },
  {
   "cell_type": "markdown",
   "metadata": {},
   "source": [
    "## 1.Explorando Ecossistemas:<br/>\n",
    "\n",
    "Como bióloga marinha, me encontrei em uma expedição nas\n",
    "profundezas do Oceano Pacífico, onde estávamos estudando a\n",
    "biodiversidade e a saúde dos recifes de coral. O catálogo abaixo\n",
    "demonstra dados das espécies encontradas, considere a seguinte\n",
    "ordem de colunas: <br/>\n",
    "**ID da espécie, quantidade de representantes encontrados, profundeza,\n",
    "tamanho médio da espécie.**\n",
    "* Selecione a segunda coluna com a quantidade de espécies\n",
    "encontradas e adicione em um array as qtd_especies.\n",
    "* De qtd_especies selecione apenas as primeiras 3 quantidades e\n",
    "print.\n",
    "* Print as 5 últimas quantidades de espécies.\n",
    "* Crie um array que contenha apenas os tamanhos das espécies e\n",
    "ordene por ordem crescente."
   ]
  },
  {
   "cell_type": "code",
   "execution_count": 3,
   "metadata": {},
   "outputs": [],
   "source": [
    "especies = np.array([[747, 89, 33, 5],\n",
    "[623, 123, 32, 13],\n",
    "[501, 22, 49, 2],\n",
    "[116, 101, 42, 10],\n",
    "[297, 56, 69, 22],\n",
    "[613, 64, 27, 7],\n",
    "[295, 84, 29, 14],\n",
    "[692, 105, 72, 16],\n",
    "[229, 103, 35, 5],\n",
    "[374, 124, 70, 1]])"
   ]
  },
  {
   "cell_type": "code",
   "execution_count": 39,
   "metadata": {},
   "outputs": [
    {
     "data": {
      "text/plain": [
       "array([ 89, 123,  22, 101,  56,  64,  84, 105, 103, 124])"
      ]
     },
     "execution_count": 39,
     "metadata": {},
     "output_type": "execute_result"
    }
   ],
   "source": [
    "#Selecionando segunda coluna com a qtd_especies e adicionando a um array\n",
    "qtd_especies = np.array(especies[:, 1])\n",
    "qtd_especies"
   ]
  },
  {
   "cell_type": "code",
   "execution_count": 40,
   "metadata": {},
   "outputs": [
    {
     "data": {
      "text/plain": [
       "array([ 89, 123,  22])"
      ]
     },
     "execution_count": 40,
     "metadata": {},
     "output_type": "execute_result"
    }
   ],
   "source": [
    "# Mostrar de qtd_especies apenas as 3 primeiras quantidades e mostrar\n",
    "top03_qtd_especies = qtd_especies[0:3]  ## Lembrando que o limite superior tem que ser 1 acima do que quer mostrar\n",
    "top03_qtd_especies"
   ]
  },
  {
   "cell_type": "code",
   "execution_count": 42,
   "metadata": {},
   "outputs": [
    {
     "data": {
      "text/plain": [
       "array([ 64,  84, 105, 103, 124])"
      ]
     },
     "execution_count": 42,
     "metadata": {},
     "output_type": "execute_result"
    }
   ],
   "source": [
    "#* Print as 5 últimas quantidades de espécies.\n",
    "\n",
    "last05_qtd_especies = qtd_especies[5: :]\n",
    "last05_qtd_especies"
   ]
  },
  {
   "cell_type": "code",
   "execution_count": 44,
   "metadata": {},
   "outputs": [
    {
     "data": {
      "text/plain": [
       "array([ 1,  2,  5,  5,  7, 10, 13, 14, 16, 22])"
      ]
     },
     "execution_count": 44,
     "metadata": {},
     "output_type": "execute_result"
    }
   ],
   "source": [
    "# Array que com tamanhos das espécies ordenado crescente.\n",
    "tamanho_med_especies = np.array(especies[:, 3])\n",
    "np.sort(tamanho_med_especies)"
   ]
  },
  {
   "cell_type": "markdown",
   "metadata": {},
   "source": [
    "2. Ainda usando o Array de espécies marítimas.\n",
    "* Usando um index boolean crie um array que contém os dados da\n",
    "maior espécie encontrada (considerando o seu tamanho), esse\n",
    "valor corresponde ao valor 22.\n",
    "* Usando fency index faça um array que contém apenas dados da\n",
    "espécie com ID 297.\n",
    "* Usando np.where() faça um array com a linha com dados\n",
    "correspondentes a espécie com 105 representantes\n",
    "encontrados.\n",
    "* Considere a profundeza em que o espécie foi encontrada\n",
    "substitua valores maiores que 60 com \"Profundo”\n"
   ]
  },
  {
   "cell_type": "code",
   "execution_count": null,
   "metadata": {},
   "outputs": [],
   "source": []
  },
  {
   "cell_type": "markdown",
   "metadata": {},
   "source": [
    "## Considerando o array abaixo, responda:"
   ]
  },
  {
   "cell_type": "code",
   "execution_count": 2,
   "metadata": {},
   "outputs": [],
   "source": [
    "acidentes = np.array([[1, 3, 2],\n",
    "[0, 1, 0],\n",
    "[2, 1, 4],\n",
    "[0, 0, 0],\n",
    "[1, 1, 0]])"
   ]
  },
  {
   "cell_type": "markdown",
   "metadata": {},
   "source": [
    "* O cliente que teve acidente abaixo da média nos últimos 2 anos,\n",
    "ganhará um desconto no seu seguro. Identifique-os.\n",
    "* Qual cliente teve pelo menos 2 anos sem cometer acidentes?\n",
    "* Uma professora quer que seus alunos apliquem a função (3x + 2y +\n",
    "x*y) em um conjunto de dados. Ela dá dois arrays aos estudantes e\n",
    "pede que seja feita essa operação.\n",
    "* A mesma professora percebeu que houve um erro em todas as provas\n",
    "dos estudantes e esqueceu de anotar a nota de trabalhos\n",
    "apresentados durante o semestre. Já que foi feito em grupo ela vai\n",
    "adicionar a mesma nota para todos os estudantes. No array cada\n",
    "estudante representa uma linha e cada coluna uma prova. Adicione\n",
    "para cada prova de cada estudante os valores: 1, 2, 1."
   ]
  },
  {
   "cell_type": "code",
   "execution_count": null,
   "metadata": {},
   "outputs": [],
   "source": []
  }
 ],
 "metadata": {
  "kernelspec": {
   "display_name": "Python 3",
   "language": "python",
   "name": "python3"
  },
  "language_info": {
   "codemirror_mode": {
    "name": "ipython",
    "version": 3
   },
   "file_extension": ".py",
   "mimetype": "text/x-python",
   "name": "python",
   "nbconvert_exporter": "python",
   "pygments_lexer": "ipython3",
   "version": "3.11.9"
  }
 },
 "nbformat": 4,
 "nbformat_minor": 2
}
