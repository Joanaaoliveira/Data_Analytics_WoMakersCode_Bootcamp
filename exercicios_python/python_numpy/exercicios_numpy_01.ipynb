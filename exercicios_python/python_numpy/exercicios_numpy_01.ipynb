{
 "cells": [
  {
   "cell_type": "code",
   "execution_count": 3,
   "metadata": {},
   "outputs": [],
   "source": [
    "import numpy as np"
   ]
  },
  {
   "cell_type": "markdown",
   "metadata": {},
   "source": [
    "Questões introdutórias"
   ]
  },
  {
   "cell_type": "markdown",
   "metadata": {},
   "source": [
    "1. Crie um array com 4 linhas e 3 colunas com valores aleatórios."
   ]
  },
  {
   "cell_type": "code",
   "execution_count": 8,
   "metadata": {},
   "outputs": [
    {
     "data": {
      "text/plain": [
       "array([[0.63405467, 0.59075528, 0.29231128],\n",
       "       [0.35358164, 0.39711329, 0.93912718],\n",
       "       [0.63422752, 0.53031045, 0.47117257],\n",
       "       [0.62869119, 0.73510653, 0.79392406]])"
      ]
     },
     "execution_count": 8,
     "metadata": {},
     "output_type": "execute_result"
    }
   ],
   "source": [
    "lista_aleatoria = np.random.random((4, 3))\n",
    "lista_aleatoria"
   ]
  },
  {
   "cell_type": "markdown",
   "metadata": {},
   "source": [
    "2. Crie um array com valores inteiros, 3 linhas e 5 colunas com valores aleatórios."
   ]
  },
  {
   "cell_type": "code",
   "execution_count": 18,
   "metadata": {},
   "outputs": [
    {
     "data": {
      "text/plain": [
       "array([[70, 39, 18, 46, 10],\n",
       "       [10, 14, 65, 40, 12],\n",
       "       [17, 47,  6, 19, 29]])"
      ]
     },
     "execution_count": 18,
     "metadata": {},
     "output_type": "execute_result"
    }
   ],
   "source": [
    "lista_aleatoria_int = np.random.randint(0, 75, size=(3, 5))\n",
    "lista_aleatoria_int"
   ]
  },
  {
   "cell_type": "markdown",
   "metadata": {},
   "source": [
    "4. Crie um array que vá entre 0 e 90 pulando de 4 em 4."
   ]
  },
  {
   "cell_type": "code",
   "execution_count": 22,
   "metadata": {},
   "outputs": [
    {
     "data": {
      "text/plain": [
       "array([ 0,  4,  8, 12, 16, 20, 24, 28, 32, 36, 40, 44, 48, 52, 56, 60, 64,\n",
       "       68, 72, 76, 80, 84, 88])"
      ]
     },
     "execution_count": 22,
     "metadata": {},
     "output_type": "execute_result"
    }
   ],
   "source": [
    "array_4x4 = np.arange(0, 91, 4)\n",
    "array_4x4"
   ]
  },
  {
   "cell_type": "markdown",
   "metadata": {},
   "source": [
    "array_4x4 = np.random.random((4,3))"
   ]
  },
  {
   "cell_type": "markdown",
   "metadata": {},
   "source": [
    "5. Reduza o array (5,7) a apenas uma dimensão."
   ]
  },
  {
   "cell_type": "code",
   "execution_count": 51,
   "metadata": {},
   "outputs": [
    {
     "data": {
      "text/plain": [
       "array([0.65655991, 0.886761  , 0.68248711, 0.49388754, 0.46036507,\n",
       "       0.45358555, 0.0061553 , 0.46912297, 0.50435547, 0.98685761,\n",
       "       0.60759045, 0.40947882, 0.88819589, 0.7348689 , 0.10977083,\n",
       "       0.03098757, 0.21143543, 0.34966874, 0.71046232, 0.22872994,\n",
       "       0.57058193, 0.9374292 , 0.77347441, 0.63252964, 0.33324713,\n",
       "       0.9148741 , 0.21829838, 0.91768494, 0.48046389, 0.82199847,\n",
       "       0.14434178, 0.64266595, 0.82667891, 0.22605586, 0.47987437])"
      ]
     },
     "execution_count": 51,
     "metadata": {},
     "output_type": "execute_result"
    }
   ],
   "source": [
    "array_57 = np.random.random((5, 7))\n",
    "array_57 = array_57.flatten()\n",
    "array_57"
   ]
  },
  {
   "cell_type": "markdown",
   "metadata": {},
   "source": [
    "6. Considerando que você é uma organizadora de um jogo de bingo. Crie um array que irá representar a cartilha dos jogos.<br/>\n",
    "* Os números das suas cartelas variam entre 1 e 30, e você terá 10 participantes. \n",
    "* Cada cartela terá 12 números (4, 3). \n",
    "* Crie um array que representa esse jogo."
   ]
  },
  {
   "cell_type": "code",
   "execution_count": null,
   "metadata": {},
   "outputs": [],
   "source": [
    "bingo = np.random.randint(1, 31, size=(10, 4, 3))\n",
    "bingo"
   ]
  },
  {
   "cell_type": "markdown",
   "metadata": {},
   "source": [
    "7. Faça o reshape das suas cartelas para que haja 5 cartelas de 4 linhas e 6 colunas."
   ]
  },
  {
   "cell_type": "code",
   "execution_count": null,
   "metadata": {},
   "outputs": [],
   "source": [
    "bingo.reshape((5, 4, 6))"
   ]
  }
 ],
 "metadata": {
  "kernelspec": {
   "display_name": "Python 3",
   "language": "python",
   "name": "python3"
  },
  "language_info": {
   "codemirror_mode": {
    "name": "ipython",
    "version": 3
   },
   "file_extension": ".py",
   "mimetype": "text/x-python",
   "name": "python",
   "nbconvert_exporter": "python",
   "pygments_lexer": "ipython3",
   "version": "3.11.9"
  }
 },
 "nbformat": 4,
 "nbformat_minor": 2
}
