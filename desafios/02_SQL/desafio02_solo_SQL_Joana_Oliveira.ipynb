{
 "cells": [
  {
   "cell_type": "markdown",
   "metadata": {
    "id": "LnKEX5CQDIp5"
   },
   "source": [
    "### Ambiente de preparação"
   ]
  },
  {
   "cell_type": "code",
   "execution_count": 1,
   "metadata": {
    "executionInfo": {
     "elapsed": 401,
     "status": "ok",
     "timestamp": 1724162905583,
     "user": {
      "displayName": "Joana Aparecida de Oliveira",
      "userId": "09838242836351420149"
     },
     "user_tz": 180
    },
    "id": "aJJwxHkxBtuv"
   },
   "outputs": [],
   "source": [
    "#Importando o sqlite3\n",
    "import sqlite3"
   ]
  },
  {
   "cell_type": "code",
   "execution_count": 2,
   "metadata": {
    "executionInfo": {
     "elapsed": 2374,
     "status": "ok",
     "timestamp": 1724162908351,
     "user": {
      "displayName": "Joana Aparecida de Oliveira",
      "userId": "09838242836351420149"
     },
     "user_tz": 180
    },
    "id": "jFFSMb9NAKhT"
   },
   "outputs": [],
   "source": [
    "%load_ext sql"
   ]
  },
  {
   "cell_type": "code",
   "execution_count": 3,
   "metadata": {
    "executionInfo": {
     "elapsed": 16,
     "status": "ok",
     "timestamp": 1724162908352,
     "user": {
      "displayName": "Joana Aparecida de Oliveira",
      "userId": "09838242836351420149"
     },
     "user_tz": 180
    },
    "id": "PwUqrOC3AgjG"
   },
   "outputs": [],
   "source": [
    "# Criando o arquivo do BD\n",
    "%%sql\n",
    "sqlite:///banco.db"
   ]
  },
  {
   "cell_type": "code",
   "execution_count": 4,
   "metadata": {
    "executionInfo": {
     "elapsed": 14,
     "status": "ok",
     "timestamp": 1724162908352,
     "user": {
      "displayName": "Joana Aparecida de Oliveira",
      "userId": "09838242836351420149"
     },
     "user_tz": 180
    },
    "id": "A95o3qu_CYwx"
   },
   "outputs": [],
   "source": [
    "# definindo o caminho\n",
    "caminho_banco = '/content/banco.db'"
   ]
  },
  {
   "cell_type": "code",
   "execution_count": 5,
   "metadata": {
    "executionInfo": {
     "elapsed": 14,
     "status": "ok",
     "timestamp": 1724162908352,
     "user": {
      "displayName": "Joana Aparecida de Oliveira",
      "userId": "09838242836351420149"
     },
     "user_tz": 180
    },
    "id": "YHqPmPuqCdS5"
   },
   "outputs": [],
   "source": [
    "# criando conexao com sqlite3\n",
    "conexao = sqlite3.connect(caminho_banco)\n",
    "cursor = conexao.cursor()"
   ]
  },
  {
   "cell_type": "markdown",
   "metadata": {
    "id": "q0x44YAlAwx1"
   },
   "source": [
    "### 1. Criando a tabela no BD"
   ]
  },
  {
   "cell_type": "code",
   "execution_count": 6,
   "metadata": {
    "colab": {
     "base_uri": "https://localhost:8080/"
    },
    "executionInfo": {
     "elapsed": 14,
     "status": "ok",
     "timestamp": 1724162908353,
     "user": {
      "displayName": "Joana Aparecida de Oliveira",
      "userId": "09838242836351420149"
     },
     "user_tz": 180
    },
    "id": "v8Q1EfXxCLTK",
    "outputId": "e5ab5fce-b4d1-462e-b041-762cce8ed594"
   },
   "outputs": [
    {
     "data": {
      "text/plain": [
       "<sqlite3.Cursor at 0x7f7247b47340>"
      ]
     },
     "execution_count": 6,
     "metadata": {},
     "output_type": "execute_result"
    }
   ],
   "source": [
    "cursor.execute('CREATE TABLE alunos(id INT, nome VARCHAR(100), idade INT, curso VARCHAR(50))')"
   ]
  },
  {
   "cell_type": "markdown",
   "metadata": {
    "id": "_jGWdYXcCq3I"
   },
   "source": [
    "### 2. Inserindo registros no BD"
   ]
  },
  {
   "cell_type": "code",
   "execution_count": 7,
   "metadata": {
    "colab": {
     "base_uri": "https://localhost:8080/"
    },
    "executionInfo": {
     "elapsed": 11,
     "status": "ok",
     "timestamp": 1724162908353,
     "user": {
      "displayName": "Joana Aparecida de Oliveira",
      "userId": "09838242836351420149"
     },
     "user_tz": 180
    },
    "id": "9A0gpMO9CqlB",
    "outputId": "93ca22c7-d206-4dd2-f3e5-1f3af6d0b94b"
   },
   "outputs": [
    {
     "data": {
      "text/plain": [
       "<sqlite3.Cursor at 0x7f7247b47340>"
      ]
     },
     "execution_count": 7,
     "metadata": {},
     "output_type": "execute_result"
    }
   ],
   "source": [
    "cursor.execute('INSERT INTO alunos(id, nome, idade, curso) VALUES (1, \"Julia\", \"21\", \"Desenvolvimento de Sistemas\")')\n",
    "cursor.execute('INSERT INTO alunos(id, nome, idade, curso) VALUES (2, \"Mario\", \"28\", \"Engenharia\")')\n",
    "cursor.execute('INSERT INTO alunos(id, nome, idade, curso) VALUES (3, \"Marcos\", \"21\", \"Educação Física\")')\n",
    "cursor.execute('INSERT INTO alunos(id, nome, idade, curso) VALUES (4, \"Lauren\", \"20\", \"Educação Física\")')\n",
    "cursor.execute('INSERT INTO alunos(id, nome, idade, curso) VALUES (5, \"Marcos\", \"19\", \"Biologia\")')\n",
    "cursor.execute('INSERT INTO alunos(id, nome, idade, curso) VALUES (6, \"Paulo\", \"45\", \"Biologia\")')\n",
    "cursor.execute('INSERT INTO alunos(id, nome, idade, curso) VALUES (7, \"Bruno\", \"25\", \"Física\")')\n",
    "cursor.execute('INSERT INTO alunos(id, nome, idade, curso) VALUES (8, \"Tatiana\", \"18\", \"Engenharia\")')\n",
    "cursor.execute('INSERT INTO alunos(id, nome, idade, curso) VALUES (9, \"Larissa\", \"31\", \"Direito\")')\n",
    "cursor.execute('INSERT INTO alunos(id, nome, idade, curso) VALUES (10, \"Maria\", \"50\", \"Engenharia\")')\n",
    "cursor.execute('INSERT INTO alunos(id, nome, idade, curso) VALUES (11, \"Juliana\", \"20\", \"Administração\")')\n",
    "cursor.execute('INSERT INTO alunos(id, nome, idade, curso) VALUES (12, \"Julia\", \"30\", \"Engenharia\")')"
   ]
  },
  {
   "cell_type": "markdown",
   "metadata": {
    "id": "VqPmO25MCyVQ"
   },
   "source": [
    "### 3.a. Selecionando todos os registros da tabela 'alunos'\n"
   ]
  },
  {
   "cell_type": "code",
   "execution_count": 8,
   "metadata": {
    "colab": {
     "base_uri": "https://localhost:8080/"
    },
    "executionInfo": {
     "elapsed": 8,
     "status": "ok",
     "timestamp": 1724162908353,
     "user": {
      "displayName": "Joana Aparecida de Oliveira",
      "userId": "09838242836351420149"
     },
     "user_tz": 180
    },
    "id": "rNrmVccxC0gN",
    "outputId": "7a894caa-a5cd-46f8-99f7-8df452c471f7"
   },
   "outputs": [
    {
     "name": "stdout",
     "output_type": "stream",
     "text": [
      "(1, 'Julia', 21, 'Desenvolvimento de Sistemas')\n",
      "(2, 'Mario', 28, 'Engenharia')\n",
      "(3, 'Marcos', 21, 'Educação Física')\n",
      "(4, 'Lauren', 20, 'Educação Física')\n",
      "(5, 'Marcos', 19, 'Biologia')\n",
      "(6, 'Paulo', 45, 'Biologia')\n",
      "(7, 'Bruno', 25, 'Física')\n",
      "(8, 'Tatiana', 18, 'Engenharia')\n",
      "(9, 'Larissa', 31, 'Direito')\n",
      "(10, 'Maria', 50, 'Engenharia')\n",
      "(11, 'Juliana', 20, 'Administração')\n",
      "(12, 'Julia', 30, 'Engenharia')\n"
     ]
    }
   ],
   "source": [
    "dados = cursor.execute('SELECT * FROM alunos')\n",
    "for alunos in dados:\n",
    "    print(alunos)"
   ]
  },
  {
   "cell_type": "markdown",
   "metadata": {
    "id": "00CLfiXQDm4g"
   },
   "source": [
    "### b. Selecionando NOME E IDADE somente dos alunos com mais de 20 anos"
   ]
  },
  {
   "cell_type": "code",
   "execution_count": 9,
   "metadata": {
    "colab": {
     "base_uri": "https://localhost:8080/"
    },
    "executionInfo": {
     "elapsed": 602,
     "status": "ok",
     "timestamp": 1724162908950,
     "user": {
      "displayName": "Joana Aparecida de Oliveira",
      "userId": "09838242836351420149"
     },
     "user_tz": 180
    },
    "id": "C-qeWrRfLcMY",
    "outputId": "acaba161-8bc8-498d-a5c4-22329b98a789"
   },
   "outputs": [
    {
     "name": "stdout",
     "output_type": "stream",
     "text": [
      "('Julia', 21)\n",
      "('Mario', 28)\n",
      "('Marcos', 21)\n",
      "('Paulo', 45)\n",
      "('Bruno', 25)\n",
      "('Larissa', 31)\n",
      "('Maria', 50)\n",
      "('Julia', 30)\n"
     ]
    }
   ],
   "source": [
    "dados = cursor.execute('SELECT nome, idade FROM alunos WHERE idade>20')\n",
    "for alunos in dados:\n",
    "    print(alunos)"
   ]
  },
  {
   "cell_type": "markdown",
   "metadata": {
    "id": "_wFS5MNeDtk3"
   },
   "source": [
    "### c. Selecionando somente os alunos do curso de \"Engenharia\""
   ]
  },
  {
   "cell_type": "code",
   "execution_count": 10,
   "metadata": {
    "colab": {
     "base_uri": "https://localhost:8080/"
    },
    "executionInfo": {
     "elapsed": 36,
     "status": "ok",
     "timestamp": 1724162908950,
     "user": {
      "displayName": "Joana Aparecida de Oliveira",
      "userId": "09838242836351420149"
     },
     "user_tz": 180
    },
    "id": "ItctVXHYLiUo",
    "outputId": "871f0f36-7bca-48b4-b251-8e875c8657f4"
   },
   "outputs": [
    {
     "name": "stdout",
     "output_type": "stream",
     "text": [
      "('Julia',)\n",
      "('Maria',)\n",
      "('Mario',)\n",
      "('Tatiana',)\n"
     ]
    }
   ],
   "source": [
    "dados = cursor.execute('SELECT nome FROM alunos WHERE curso = \"Engenharia\" ORDER BY nome')\n",
    "for alunos in dados:\n",
    "    print(alunos)"
   ]
  },
  {
   "cell_type": "markdown",
   "metadata": {
    "id": "0rm0MN5tDvo2"
   },
   "source": [
    "### d. Contar o número total de alunos na tabela"
   ]
  },
  {
   "cell_type": "code",
   "execution_count": 11,
   "metadata": {
    "colab": {
     "base_uri": "https://localhost:8080/"
    },
    "executionInfo": {
     "elapsed": 34,
     "status": "ok",
     "timestamp": 1724162908950,
     "user": {
      "displayName": "Joana Aparecida de Oliveira",
      "userId": "09838242836351420149"
     },
     "user_tz": 180
    },
    "id": "D2OuHcAgLjQI",
    "outputId": "7973bb5c-e2a1-4b91-b302-35f8d78dc794"
   },
   "outputs": [
    {
     "name": "stdout",
     "output_type": "stream",
     "text": [
      "(12,)\n"
     ]
    }
   ],
   "source": [
    "dados = cursor.execute('SELECT COUNT (nome) FROM alunos')\n",
    "for alunos in dados:\n",
    "    print(alunos)"
   ]
  },
  {
   "cell_type": "markdown",
   "metadata": {
    "id": "V8dFxLakDzIG"
   },
   "source": [
    "### 4.a. Atualizar a idade de um alunos específico na tabela"
   ]
  },
  {
   "cell_type": "code",
   "execution_count": 12,
   "metadata": {
    "colab": {
     "base_uri": "https://localhost:8080/"
    },
    "executionInfo": {
     "elapsed": 31,
     "status": "ok",
     "timestamp": 1724162908950,
     "user": {
      "displayName": "Joana Aparecida de Oliveira",
      "userId": "09838242836351420149"
     },
     "user_tz": 180
    },
    "id": "P6xbouDQLkI4",
    "outputId": "d2d8bae1-3e25-4342-91b2-9eaff6afe82a"
   },
   "outputs": [
    {
     "name": "stdout",
     "output_type": "stream",
     "text": [
      "(1, 'Julia', 21, 'Desenvolvimento de Sistemas')\n",
      "(2, 'Mario', 28, 'Engenharia')\n",
      "(3, 'Marcos', 19, 'Educação Física')\n",
      "(4, 'Lauren', 20, 'Educação Física')\n",
      "(5, 'Marcos', 19, 'Biologia')\n",
      "(6, 'Paulo', 45, 'Biologia')\n",
      "(7, 'Bruno', 25, 'Física')\n",
      "(8, 'Tatiana', 18, 'Engenharia')\n",
      "(9, 'Larissa', 31, 'Direito')\n",
      "(10, 'Maria', 50, 'Engenharia')\n",
      "(11, 'Juliana', 20, 'Administração')\n",
      "(12, 'Julia', 30, 'Engenharia')\n"
     ]
    }
   ],
   "source": [
    "cursor.execute('UPDATE alunos SET idade = 19 WHERE nome = \"Marcos\"')\n",
    "dados = cursor.execute('SELECT * FROM alunos')\n",
    "for alunos in dados:\n",
    "    print(alunos)"
   ]
  },
  {
   "cell_type": "markdown",
   "metadata": {
    "id": "MZdHPcENEUNF"
   },
   "source": [
    "### b.Remover um aluno pelo seu ID"
   ]
  },
  {
   "cell_type": "code",
   "execution_count": 13,
   "metadata": {
    "colab": {
     "base_uri": "https://localhost:8080/"
    },
    "executionInfo": {
     "elapsed": 29,
     "status": "ok",
     "timestamp": 1724162908950,
     "user": {
      "displayName": "Joana Aparecida de Oliveira",
      "userId": "09838242836351420149"
     },
     "user_tz": 180
    },
    "id": "w1VbIYOXLkvp",
    "outputId": "c555bfad-5d6f-4e4b-a946-fa329c5d5c20"
   },
   "outputs": [
    {
     "name": "stdout",
     "output_type": "stream",
     "text": [
      "(1, 'Julia', 21, 'Desenvolvimento de Sistemas')\n",
      "(2, 'Mario', 28, 'Engenharia')\n",
      "(3, 'Marcos', 19, 'Educação Física')\n",
      "(4, 'Lauren', 20, 'Educação Física')\n",
      "(5, 'Marcos', 19, 'Biologia')\n",
      "(6, 'Paulo', 45, 'Biologia')\n",
      "(7, 'Bruno', 25, 'Física')\n",
      "(8, 'Tatiana', 18, 'Engenharia')\n",
      "(9, 'Larissa', 31, 'Direito')\n",
      "(10, 'Maria', 50, 'Engenharia')\n",
      "(11, 'Juliana', 20, 'Administração')\n"
     ]
    }
   ],
   "source": [
    "cursor.execute('DELETE FROM alunos WHERE id=12')\n",
    "dados = cursor.execute('SELECT * FROM alunos')\n",
    "for alunos in dados:\n",
    "    print(alunos)"
   ]
  },
  {
   "cell_type": "markdown",
   "metadata": {
    "id": "T2d4q4wiEXaN"
   },
   "source": [
    "### 5. Criar uma tbela chamada 'clientes' e inserir alguns registros"
   ]
  },
  {
   "cell_type": "code",
   "execution_count": 14,
   "metadata": {
    "colab": {
     "base_uri": "https://localhost:8080/"
    },
    "executionInfo": {
     "elapsed": 27,
     "status": "ok",
     "timestamp": 1724162908951,
     "user": {
      "displayName": "Joana Aparecida de Oliveira",
      "userId": "09838242836351420149"
     },
     "user_tz": 180
    },
    "id": "jkZIEY_oMBUI",
    "outputId": "adbc255d-1419-4978-e947-a26a3d9f596d"
   },
   "outputs": [
    {
     "data": {
      "text/plain": [
       "<sqlite3.Cursor at 0x7f7247b47340>"
      ]
     },
     "execution_count": 14,
     "metadata": {},
     "output_type": "execute_result"
    }
   ],
   "source": [
    "cursor.execute('CREATE TABLE clientes(id INT, nome VARCHAR(100), idade INT, saldo FLOAT, CONSTRAINT PK PRIMARY KEY (id))')\n",
    "  ## inserindo registros\n",
    "cursor.execute('INSERT INTO clientes(id, nome, idade, saldo) VALUES (1, \"Marcelo\", 18, 20.45)')  #usar . para separador de float\n",
    "cursor.execute('INSERT INTO clientes(id, nome, idade, saldo) VALUES (2, \"Bruna\", 45, 350.65)')\n",
    "cursor.execute('INSERT INTO clientes(id, nome, idade, saldo) VALUES (3, \"Marcos\", 21, 75.18)')\n",
    "cursor.execute('INSERT INTO clientes(id, nome, idade, saldo) VALUES (4, \"Lauren\", 20, 1549.00)')\n",
    "cursor.execute('INSERT INTO clientes(id, nome, idade, saldo) VALUES (5, \"Maiara\", 22, 85.25)')\n",
    "cursor.execute('INSERT INTO clientes(id, nome, idade, saldo) VALUES (6, \"Elenice\", 65, 5.28)')"
   ]
  },
  {
   "cell_type": "markdown",
   "metadata": {
    "id": "hfkl_ZIXEedd"
   },
   "source": [
    "### 6.a. Selecionar nome e idade dos clientes com idade superior a 30 anos\n"
   ]
  },
  {
   "cell_type": "code",
   "execution_count": 15,
   "metadata": {
    "colab": {
     "base_uri": "https://localhost:8080/"
    },
    "executionInfo": {
     "elapsed": 24,
     "status": "ok",
     "timestamp": 1724162908951,
     "user": {
      "displayName": "Joana Aparecida de Oliveira",
      "userId": "09838242836351420149"
     },
     "user_tz": 180
    },
    "id": "XC1wHcrHE96V",
    "outputId": "2616bf53-1937-4bbe-dbd0-59116a4b6a17"
   },
   "outputs": [
    {
     "name": "stdout",
     "output_type": "stream",
     "text": [
      "('Bruna', 45)\n",
      "('Elenice', 65)\n"
     ]
    }
   ],
   "source": [
    "dados = cursor.execute('SELECT nome, idade FROM clientes WHERE idade>30')\n",
    "for clientes in dados:\n",
    "    print(clientes)"
   ]
  },
  {
   "cell_type": "markdown",
   "metadata": {
    "id": "jlAwpe5hElL0"
   },
   "source": [
    "### b. Calcular o saldo médio dos clientes\n",
    "\n"
   ]
  },
  {
   "cell_type": "code",
   "execution_count": 16,
   "metadata": {
    "colab": {
     "base_uri": "https://localhost:8080/"
    },
    "executionInfo": {
     "elapsed": 22,
     "status": "ok",
     "timestamp": 1724162908951,
     "user": {
      "displayName": "Joana Aparecida de Oliveira",
      "userId": "09838242836351420149"
     },
     "user_tz": 180
    },
    "id": "V6jkIDIBMTqA",
    "outputId": "fd4ebeeb-9e7c-476e-f695-0f061ac6011f"
   },
   "outputs": [
    {
     "name": "stdout",
     "output_type": "stream",
     "text": [
      "(347.635,)\n"
     ]
    }
   ],
   "source": [
    "dados = cursor.execute('SELECT AVG(saldo) AS saldo_medio FROM clientes')\n",
    "for clientes in dados:\n",
    "    print(clientes)"
   ]
  },
  {
   "cell_type": "markdown",
   "metadata": {
    "id": "ofpXU11PEnWc"
   },
   "source": [
    "### c. Encontrar o cliente com o maior saldo\n"
   ]
  },
  {
   "cell_type": "code",
   "execution_count": 17,
   "metadata": {
    "colab": {
     "base_uri": "https://localhost:8080/"
    },
    "executionInfo": {
     "elapsed": 20,
     "status": "ok",
     "timestamp": 1724162908951,
     "user": {
      "displayName": "Joana Aparecida de Oliveira",
      "userId": "09838242836351420149"
     },
     "user_tz": 180
    },
    "id": "x-gOBfU2MVPn",
    "outputId": "c4bcc480-3bdf-4f7c-fbcc-a3b625f3712c"
   },
   "outputs": [
    {
     "name": "stdout",
     "output_type": "stream",
     "text": [
      "(1549.0,)\n"
     ]
    }
   ],
   "source": [
    "dados = cursor.execute('SELECT MAX(saldo) AS maior_saldo FROM clientes')\n",
    "for clientes in dados:\n",
    "    print(clientes)"
   ]
  },
  {
   "cell_type": "markdown",
   "metadata": {
    "id": "If0txxlhEpPU"
   },
   "source": [
    "### d. Contar quantos clinetes tem o saldo acima de 1000\n"
   ]
  },
  {
   "cell_type": "code",
   "execution_count": 18,
   "metadata": {
    "colab": {
     "base_uri": "https://localhost:8080/"
    },
    "executionInfo": {
     "elapsed": 18,
     "status": "ok",
     "timestamp": 1724162908951,
     "user": {
      "displayName": "Joana Aparecida de Oliveira",
      "userId": "09838242836351420149"
     },
     "user_tz": 180
    },
    "id": "1UieieZFMWd3",
    "outputId": "e525540b-30ee-49f3-b536-0ac43f213b32"
   },
   "outputs": [
    {
     "name": "stdout",
     "output_type": "stream",
     "text": [
      "(1,)\n"
     ]
    }
   ],
   "source": [
    "dados = cursor.execute('SELECT COUNT(*) AS qtd_clientes FROM clientes WHERE saldo>1000')\n",
    "for clientes in dados:\n",
    "    print(clientes)"
   ]
  },
  {
   "cell_type": "markdown",
   "metadata": {
    "id": "fJ8BvSFtEqoM"
   },
   "source": [
    "\n",
    "### 7.a. Atualizar o saldo de um cliente específico\n",
    "\n"
   ]
  },
  {
   "cell_type": "code",
   "execution_count": 19,
   "metadata": {
    "colab": {
     "base_uri": "https://localhost:8080/"
    },
    "executionInfo": {
     "elapsed": 16,
     "status": "ok",
     "timestamp": 1724162908951,
     "user": {
      "displayName": "Joana Aparecida de Oliveira",
      "userId": "09838242836351420149"
     },
     "user_tz": 180
    },
    "id": "IMMzhK9ZMXpX",
    "outputId": "b2deace6-8e28-4700-da6a-825dffcf8a16"
   },
   "outputs": [
    {
     "name": "stdout",
     "output_type": "stream",
     "text": [
      "(1, 'Marcelo', 18, 20.45)\n",
      "(2, 'Bruna', 45, 350.65)\n",
      "(3, 'Marcos', 21, 75.18)\n",
      "(4, 'Lauren', 20, 1549.0)\n",
      "(5, 'Maiara', 22, 85.25)\n",
      "(6, 'Elenice', 65, 1350.75)\n"
     ]
    }
   ],
   "source": [
    "cursor.execute('UPDATE clientes SET saldo = 1350.75 WHERE nome = \"Elenice\"')\n",
    "dados = cursor.execute('SELECT * FROM clientes')\n",
    "for clientes in dados:\n",
    "    print(clientes)"
   ]
  },
  {
   "cell_type": "markdown",
   "metadata": {
    "id": "zY5ABsopEsn8"
   },
   "source": [
    "### b. Remover um cliente pelo seu ID\n"
   ]
  },
  {
   "cell_type": "code",
   "execution_count": 20,
   "metadata": {
    "colab": {
     "base_uri": "https://localhost:8080/"
    },
    "executionInfo": {
     "elapsed": 14,
     "status": "ok",
     "timestamp": 1724162908951,
     "user": {
      "displayName": "Joana Aparecida de Oliveira",
      "userId": "09838242836351420149"
     },
     "user_tz": 180
    },
    "id": "-5PcYNKYMY-2",
    "outputId": "255efd0e-0052-445a-ff37-819d04e8794d"
   },
   "outputs": [
    {
     "name": "stdout",
     "output_type": "stream",
     "text": [
      "(2, 'Bruna', 45, 350.65)\n",
      "(3, 'Marcos', 21, 75.18)\n",
      "(4, 'Lauren', 20, 1549.0)\n",
      "(5, 'Maiara', 22, 85.25)\n",
      "(6, 'Elenice', 65, 1350.75)\n"
     ]
    }
   ],
   "source": [
    "cursor.execute('DELETE FROM clientes WHERE id=1')\n",
    "dados = cursor.execute('SELECT * FROM clientes')\n",
    "for clientes in dados:\n",
    "    print(clientes)"
   ]
  },
  {
   "cell_type": "markdown",
   "metadata": {
    "id": "BF9qaMQSEuNs"
   },
   "source": [
    "### 8. Criar uma tabela chamada 'compras'\n"
   ]
  },
  {
   "cell_type": "code",
   "execution_count": 21,
   "metadata": {
    "colab": {
     "base_uri": "https://localhost:8080/"
    },
    "executionInfo": {
     "elapsed": 13,
     "status": "ok",
     "timestamp": 1724162908952,
     "user": {
      "displayName": "Joana Aparecida de Oliveira",
      "userId": "09838242836351420149"
     },
     "user_tz": 180
    },
    "id": "IwL1Q2VXMbnI",
    "outputId": "57f48615-5913-4b7f-96ca-bb231c95be1c"
   },
   "outputs": [
    {
     "data": {
      "text/plain": [
       "<sqlite3.Cursor at 0x7f7247b47340>"
      ]
     },
     "execution_count": 21,
     "metadata": {},
     "output_type": "execute_result"
    }
   ],
   "source": [
    "cursor.execute('CREATE TABLE compras(id INT PRIMARY KEY, cliente_id INT, produto VARCHAR(100), valor REAL, FOREIGN KEY (cliente_id) REFERENCES clientes(id))')\n",
    " ## inserindo registros\n",
    "cursor.execute('INSERT INTO compras(id, cliente_id, produto, valor) VALUES (1, 2, \"teclado\", 150.28)') # usar . para separador de ,\n",
    "cursor.execute('INSERT INTO compras(id, cliente_id, produto, valor) VALUES (2, 2, \"mouse\", 75.40)')\n",
    "cursor.execute('INSERT INTO compras(id, cliente_id, produto, valor) VALUES (3, 7, \"monitor\", 900.49)')\n",
    "cursor.execute('INSERT INTO compras(id, cliente_id, produto, valor) VALUES (4, 3, \"mouse\", 30.99)')\n",
    "cursor.execute('INSERT INTO compras(id, cliente_id, produto, valor) VALUES (5, 4, \"bombom\", 14.98)')\n",
    "cursor.execute('INSERT INTO compras(id, cliente_id, produto, valor) VALUES (6, 6, \"celular\", 895.98)')\n",
    "cursor.execute('INSERT INTO compras(id, cliente_id, produto, valor) VALUES (7, 8, \"freezer\", 7045.98)') # máx 6digitos real??\n"
   ]
  },
  {
   "cell_type": "code",
   "execution_count": 22,
   "metadata": {
    "colab": {
     "base_uri": "https://localhost:8080/"
    },
    "executionInfo": {
     "elapsed": 10,
     "status": "ok",
     "timestamp": 1724162908952,
     "user": {
      "displayName": "Joana Aparecida de Oliveira",
      "userId": "09838242836351420149"
     },
     "user_tz": 180
    },
    "id": "m2-ocHEgN20F",
    "outputId": "125eb55f-491a-47b5-b483-8440e8fc759d"
   },
   "outputs": [
    {
     "name": "stdout",
     "output_type": "stream",
     "text": [
      "('Bruna', 'teclado', 150.28)\n",
      "('Bruna', 'mouse', 75.4)\n",
      "('Marcos', 'mouse', 30.99)\n",
      "('Lauren', 'bombom', 14.98)\n",
      "('Elenice', 'celular', 895.98)\n"
     ]
    }
   ],
   "source": [
    "dados = cursor.execute('SELECT clientes.nome, compras.produto, compras.valor FROM clientes JOIN compras ON clientes.id = compras.cliente_id')\n",
    "for compras in dados:\n",
    "    print(compras)"
   ]
  },
  {
   "cell_type": "markdown",
   "metadata": {
    "id": "o1WohHnGEx91"
   },
   "source": []
  },
  {
   "cell_type": "code",
   "execution_count": 23,
   "metadata": {
    "executionInfo": {
     "elapsed": 8,
     "status": "ok",
     "timestamp": 1724162908952,
     "user": {
      "displayName": "Joana Aparecida de Oliveira",
      "userId": "09838242836351420149"
     },
     "user_tz": 180
    },
    "id": "j1BDgwQ3EzO8"
   },
   "outputs": [],
   "source": [
    "conexao.commit()\n",
    "conexao.close()"
   ]
  }
 ],
 "metadata": {
  "colab": {
   "authorship_tag": "ABX9TyOWzZkmNvbsBN3gEIUpUY7q",
   "provenance": []
  },
  "kernelspec": {
   "display_name": "Python 3",
   "name": "python3"
  },
  "language_info": {
   "name": "python"
  }
 },
 "nbformat": 4,
 "nbformat_minor": 0
}
